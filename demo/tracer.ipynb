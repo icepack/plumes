{
 "cells": [
  {
   "cell_type": "code",
   "execution_count": null,
   "metadata": {},
   "outputs": [],
   "source": [
    "import firedrake\n",
    "\n",
    "nx, ny = 24, 24\n",
    "Lx, Ly = 20.0, 20.0\n",
    "mesh = firedrake.RectangleMesh(nx, ny, Lx, Ly, diagonal=\"crossed\")"
   ]
  },
  {
   "cell_type": "code",
   "execution_count": null,
   "metadata": {},
   "outputs": [],
   "source": [
    "degree = 1\n",
    "Q = firedrake.FunctionSpace(mesh, \"DG\", degree)\n",
    "V = firedrake.VectorFunctionSpace(mesh, \"DG\", degree)\n",
    "\n",
    "Z = Q * V * Q\n",
    "z_0 = firedrake.Function(Z)"
   ]
  },
  {
   "cell_type": "code",
   "execution_count": null,
   "metadata": {},
   "outputs": [],
   "source": [
    "from firedrake import max_value, min_value, inner, as_vector, Constant, ds\n",
    "\n",
    "x = firedrake.SpatialCoordinate(mesh)\n",
    "\n",
    "b_0 = Constant(0.0)\n",
    "δb = Constant(0.2)\n",
    "b = b_0 - δb * x[0] / Lx"
   ]
  },
  {
   "cell_type": "code",
   "execution_count": null,
   "metadata": {},
   "outputs": [],
   "source": [
    "H = Constant(1.0)\n",
    "u_in = Constant(2.5)\n",
    "S_in = Constant(1.0)\n",
    "\n",
    "h_0, u_0, S_0 = z_0.split()\n",
    "h_0.project(H)\n",
    "u_0.project(as_vector((u_in, 0)));\n",
    "S_0.project(S_in)"
   ]
  },
  {
   "cell_type": "code",
   "execution_count": null,
   "metadata": {},
   "outputs": [],
   "source": [
    "import numpy as np\n",
    "from plumes.coefficients import gravity\n",
    "C = abs(float(u_in)) + np.sqrt(gravity * float(H))\n",
    "δx = mesh.cell_sizes.dat.data_ro[:].min()\n",
    "timestep = δx / C / (2 * degree + 1)\n",
    "\n",
    "final_time = 12 * Lx / C\n",
    "num_steps = int(final_time / timestep)\n",
    "dt = final_time / num_steps\n",
    "\n",
    "output_time = 1 / 30\n",
    "output_freq = max(int(output_time / dt), 1)"
   ]
  },
  {
   "cell_type": "code",
   "execution_count": null,
   "metadata": {},
   "outputs": [],
   "source": [
    "from plumes.models import shallow_water\n",
    "\n",
    "inflow_ids = (1,)\n",
    "outflow_ids = (2,)\n",
    "\n",
    "g = Constant(gravity)\n",
    "bcs = {\n",
    "    \"thickness_in\": H,\n",
    "    \"velocity_in\": Constant((u_in, 0.0)),\n",
    "    \"inflow_ids\": inflow_ids,\n",
    "    \"outflow_ids\": outflow_ids,\n",
    "}\n",
    "wave_equation = shallow_water.make_equation(g, b, form=\"velocity\", **bcs)"
   ]
  },
  {
   "cell_type": "code",
   "execution_count": null,
   "metadata": {},
   "outputs": [],
   "source": [
    "from firedrake import sqrt, dx\n",
    "\n",
    "ξ = Constant((Lx / 2, Lx / 2))\n",
    "R = Constant(Lx / 8)\n",
    "k_0 = Constant(1.0)\n",
    "k = k_0 * max_value(0, 1 - inner(x - ξ, x - ξ) / R**2)\n",
    "\n",
    "def friction_equation(z):\n",
    "    Z = z.function_space()\n",
    "    ϕ, v = firedrake.TestFunctions(Z)[:2]\n",
    "    h, u = firedrake.split(z)[:2]\n",
    "\n",
    "    U = inner(u, u)**(1 / 2)\n",
    "    return -k * U * inner(u, v) * dx"
   ]
  },
  {
   "cell_type": "code",
   "execution_count": null,
   "metadata": {},
   "outputs": [],
   "source": [
    "from plumes.models import forms\n",
    "\n",
    "def salt_equation(z):\n",
    "    Z = z.function_space()\n",
    "    h, u, S = firedrake.split(z)\n",
    "    ϕ, v, η = firedrake.TestFunctions(Z)\n",
    "    \n",
    "    f_S = h * S * u\n",
    "    n = firedrake.FacetNormal(mesh)\n",
    "    c = abs(inner(u, n))\n",
    "    \n",
    "    salt_fluxes = (\n",
    "        forms.cell_flux(f_S, η) +\n",
    "        forms.central_facet_flux(f_S, η) +\n",
    "        forms.lax_friedrichs_facet_flux(S, c, η) +\n",
    "        S * max_value(0, inner(u, n)) * η * ds(outflow_ids) +\n",
    "        S_in * min_value(0, inner(u, n)) * η * ds(inflow_ids)\n",
    "    )\n",
    "    \n",
    "    return -salt_fluxes"
   ]
  },
  {
   "cell_type": "code",
   "execution_count": null,
   "metadata": {},
   "outputs": [],
   "source": [
    "def equation(z):\n",
    "    return wave_equation(z) + friction_equation(z) + salt_equation(z)"
   ]
  },
  {
   "cell_type": "code",
   "execution_count": null,
   "metadata": {},
   "outputs": [],
   "source": [
    "def conserved_variables(z):\n",
    "    Z = z.function_space()\n",
    "    h, u, S = firedrake.split(z)\n",
    "    \n",
    "    return firedrake.as_vector((h, h * u[0], h * u[1], h * S))"
   ]
  },
  {
   "cell_type": "code",
   "execution_count": null,
   "metadata": {},
   "outputs": [],
   "source": [
    "from plumes import numerics\n",
    "\n",
    "params = {\n",
    "    \"form_compiler_parameters\": {\"quadrature_degree\": 4},\n",
    "    \"solver_parameters\": {\"mat_type\": \"aij\", \"snes_type\": \"ksponly\"},\n",
    "}\n",
    "\n",
    "integrator = numerics.ImplicitEuler(\n",
    "    equation, z_0, conserved_variables=conserved_variables, **params\n",
    ")"
   ]
  },
  {
   "cell_type": "code",
   "execution_count": null,
   "metadata": {},
   "outputs": [],
   "source": [
    "import tqdm\n",
    "\n",
    "hs = []\n",
    "us = []\n",
    "Ss = []\n",
    "\n",
    "progress_bar = tqdm.trange(num_steps)\n",
    "for step in progress_bar:\n",
    "    if step % output_freq == 0:\n",
    "        z = integrator.state\n",
    "        h, u, S = z.split()\n",
    "        hmin, hmax = h.dat.data_ro[:].min(), h.dat.data_ro[:].max()\n",
    "        progress_bar.set_description(f'{hmin:5.3f}, {hmax:5.3f}')\n",
    "        hs.append(h.copy(deepcopy=True))\n",
    "        us.append(u.copy(deepcopy=True))\n",
    "        Ss.append(S.copy(deepcopy=True))\n",
    "    \n",
    "    integrator.step(dt)"
   ]
  },
  {
   "cell_type": "code",
   "execution_count": null,
   "metadata": {},
   "outputs": [],
   "source": [
    "%%capture\n",
    "Q0 = firedrake.FunctionSpace(mesh, 'DG', 0)\n",
    "η = firedrake.project(hs[0] + b, Q0)\n",
    "\n",
    "import matplotlib.pyplot as plt\n",
    "from matplotlib.animation import FuncAnimation\n",
    "\n",
    "fig, axes = plt.subplots()\n",
    "axes.set_aspect('equal')\n",
    "axes.get_xaxis().set_visible(False)\n",
    "axes.get_yaxis().set_visible(False)\n",
    "axes.set_xlim((0, Lx))\n",
    "axes.set_ylim((0, Ly))\n",
    "colors = firedrake.tripcolor(\n",
    "    η, num_sample_points=1, vmin=0.5, vmax=1.2, axes=axes\n",
    ")\n",
    "\n",
    "def animate(h):\n",
    "    η.project(h + b)\n",
    "    colors.set_array(η.dat.data_ro[:])\n",
    "\n",
    "interval = 1e3 * output_freq * dt\n",
    "animation = FuncAnimation(fig, animate, frames=hs, interval=interval)"
   ]
  },
  {
   "cell_type": "code",
   "execution_count": null,
   "metadata": {},
   "outputs": [],
   "source": [
    "from IPython.display import HTML\n",
    "HTML(animation.to_html5_video())"
   ]
  }
 ],
 "metadata": {
  "kernelspec": {
   "display_name": "firedrake",
   "language": "python",
   "name": "firedrake"
  },
  "language_info": {
   "codemirror_mode": {
    "name": "ipython",
    "version": 3
   },
   "file_extension": ".py",
   "mimetype": "text/x-python",
   "name": "python",
   "nbconvert_exporter": "python",
   "pygments_lexer": "ipython3",
   "version": "3.10.2"
  }
 },
 "nbformat": 4,
 "nbformat_minor": 4
}
