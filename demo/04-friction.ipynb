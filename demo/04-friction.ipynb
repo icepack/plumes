{
 "cells": [
  {
   "cell_type": "markdown",
   "metadata": {},
   "source": [
    "# Friction\n",
    "\n",
    "In the previous demos, we've looked exclusively at systems that conserve energy.\n",
    "Many of the problems we're interested in are not purely energy-conserving because the dynamics have dissipative parts as well, such as bottom friction or viscosity.\n",
    "In this demo, we'll show how to add bottom friction to the shallow water model and how to solve this problem using an *implicit-explicit* timestepping scheme.\n",
    "\n",
    "All of the schemes we've used so far have been purely explicit -- the system state at the next step is a simple function of its current state.\n",
    "Implicit schemes instead define the state at the next step as the solution of possibly complex nonlinear system.\n",
    "These types of schemes are more expensive than their explicit counterparts, but they can give much better results for dynamics with a very rapid relaxation timescale, such as viscous diffusion of momentum.\n",
    "These types of problems are called *stiff* in the numerical literature.\n",
    "An implicit-explicit or IMEX method combines both types -- explicit for the non-stiff dynamics, implicit for the stiff dynamics."
   ]
  },
  {
   "cell_type": "code",
   "execution_count": null,
   "metadata": {},
   "outputs": [],
   "source": [
    "import firedrake\n",
    "nx, ny = 24, 24\n",
    "Lx, Ly = 20., 20.\n",
    "mesh = firedrake.RectangleMesh(nx, ny, Lx, Ly, diagonal='crossed')"
   ]
  },
  {
   "cell_type": "code",
   "execution_count": null,
   "metadata": {},
   "outputs": [],
   "source": [
    "degree = 1\n",
    "Q = firedrake.FunctionSpace(mesh, family='DG', degree=degree)\n",
    "V = firedrake.VectorFunctionSpace(mesh, family='DG', degree=degree)\n",
    "\n",
    "Z = Q * V\n",
    "z_0 = firedrake.Function(Z)"
   ]
  },
  {
   "cell_type": "markdown",
   "metadata": {},
   "source": [
    "For this demo, we'll use a bed that slopes down from the left to the right-hand side of the domain.\n",
    "If we used a flat bottom and added friction, the frictional dissipation would slow down the flow and cause the fluid to build up on the inflow boundary.\n",
    "This kind of flow is closer what we'll encounter when we simulate buoyant meltwater plumes under ice shelves."
   ]
  },
  {
   "cell_type": "code",
   "execution_count": null,
   "metadata": {},
   "outputs": [],
   "source": [
    "from firedrake import inner, max_value, Constant\n",
    "\n",
    "x = firedrake.SpatialCoordinate(mesh)\n",
    "\n",
    "b_0 = Constant(0.0)\n",
    "δb = Constant(0.2)\n",
    "b = b_0 - δb * x[0] / Lx"
   ]
  },
  {
   "cell_type": "markdown",
   "metadata": {},
   "source": [
    "The initial state will be roughly the same as the last demo."
   ]
  },
  {
   "cell_type": "code",
   "execution_count": null,
   "metadata": {},
   "outputs": [],
   "source": [
    "H = Constant(1.0)\n",
    "u_in = Constant(2.5)\n",
    "q_in = H * Constant((u_in, 0.0))\n",
    "\n",
    "h_0, q_0 = z_0.split()\n",
    "h_0.project(H)\n",
    "q_0.project(q_in);"
   ]
  },
  {
   "cell_type": "code",
   "execution_count": null,
   "metadata": {},
   "outputs": [],
   "source": [
    "import numpy as np\n",
    "from plumes.coefficients import gravity\n",
    "C = abs(float(u_in)) + np.sqrt(gravity * float(H))\n",
    "δx = mesh.cell_sizes.dat.data_ro[:].min()\n",
    "timestep = (δx / 8) / C / (2 * degree + 1)\n",
    "\n",
    "final_time = 8 * Lx / C\n",
    "num_steps = int(final_time / timestep)\n",
    "dt = final_time / num_steps\n",
    "\n",
    "output_time = 1 / 30\n",
    "output_freq = max(int(output_time / dt), 1)"
   ]
  },
  {
   "cell_type": "markdown",
   "metadata": {},
   "source": [
    "Here's where things start to get different.\n",
    "First, we'll make the shallow water wave equation like we always have.\n",
    "This is the non-stiff part of the dynamics."
   ]
  },
  {
   "cell_type": "code",
   "execution_count": null,
   "metadata": {},
   "outputs": [],
   "source": [
    "from plumes import models\n",
    "g = Constant(gravity)\n",
    "wave_equation = models.shallow_water.make_equation(\n",
    "    g, b, h_in=H, q_in=q_in, inflow_ids=(1,), outflow_ids=(2,)\n",
    ")"
   ]
  },
  {
   "cell_type": "markdown",
   "metadata": {},
   "source": [
    "Next we'll make the friction equation; this is the stiff part of the dynamics.\n",
    "Most models assume that bottom friction is proportional to the square magnitude of velocity:\n",
    "\n",
    "$$\\partial_tq + \\nabla\\cdot F = -gh\\nabla b - k|u|u.$$\n",
    "\n",
    "If you work out the units, the friction coefficient $k$ is dimensionless, which is especially nice.\n",
    "The code below shows the inner structure of what a function looks like that calculates the weak form of part of the problem.\n",
    "This function takes in the state variable $z$ contains both thickness and momentum and outputs a `firedrake.Form` object of rank 1.\n",
    "We can get symbolic representations of the components of the state variable using the function `firedrake.split`.\n",
    "All of the other equation builders, like the wave equation builder we just called above, do something roughly similar."
   ]
  },
  {
   "cell_type": "code",
   "execution_count": null,
   "metadata": {},
   "outputs": [],
   "source": [
    "from firedrake import sqrt, dx\n",
    "\n",
    "ξ = Constant((Lx / 2, Lx / 2))\n",
    "R = Constant(Lx / 8)\n",
    "k_0 = Constant(1.0)\n",
    "k = k_0 * max_value(0, 1 - inner(x - ξ, x - ξ) / R**2)\n",
    "\n",
    "def friction_equation(z):\n",
    "    Z = z.function_space()\n",
    "    ϕ, v = firedrake.TestFunctions(Z)\n",
    "    h, q = firedrake.split(z)\n",
    "\n",
    "    u = q / h\n",
    "    U = sqrt(inner(u, u))\n",
    "    return -k * U * inner(u, v) * dx"
   ]
  },
  {
   "cell_type": "markdown",
   "metadata": {},
   "source": [
    "Now we'll create an IMEX integrator.\n",
    "The IMEX integrator has a slightly different interface compared to the ones we've seen before.\n",
    "The integration scheme can't magically figure out which part of the dynamics is stiff and which isn't, so we have to pass the two equations separately.\n",
    "\n",
    "Additionally, we're specifying the parameters to pass to the Firedrake form compiler.\n",
    "This step isn't strictly necessary, but the form compiler is overly conservative and will use a very high-degree quadrature rule at the expense of speed."
   ]
  },
  {
   "cell_type": "code",
   "execution_count": null,
   "metadata": {},
   "outputs": [],
   "source": [
    "from plumes import numerics\n",
    "params = {\n",
    "    'form_compiler_parameters': {\n",
    "        'quadrature_degree': 4\n",
    "    }\n",
    "}\n",
    "integrator = numerics.IMEX(\n",
    "    wave_equation, friction_equation, z_0, dt, **params\n",
    ")"
   ]
  },
  {
   "cell_type": "markdown",
   "metadata": {},
   "source": [
    "In every other respect, we use the IMEX integrator the same way."
   ]
  },
  {
   "cell_type": "code",
   "execution_count": null,
   "metadata": {},
   "outputs": [],
   "source": [
    "import tqdm\n",
    "\n",
    "hs = []\n",
    "qs = []\n",
    "\n",
    "progress_bar = tqdm.trange(num_steps)\n",
    "for step in progress_bar:\n",
    "    if step % output_freq == 0:\n",
    "        z = integrator.state\n",
    "        h, q = z.split()\n",
    "        hmin, hmax = h.dat.data_ro[:].min(), h.dat.data_ro[:].max()\n",
    "        progress_bar.set_description(f'{hmin:5.3f}, {hmax:5.3f}')\n",
    "        hs.append(h.copy(deepcopy=True))\n",
    "        qs.append(q.copy(deepcopy=True))\n",
    "    \n",
    "    integrator.step(dt)"
   ]
  },
  {
   "cell_type": "markdown",
   "metadata": {},
   "source": [
    "And the same old rigmarole to make a movie."
   ]
  },
  {
   "cell_type": "code",
   "execution_count": null,
   "metadata": {},
   "outputs": [],
   "source": [
    "%%capture\n",
    "Q0 = firedrake.FunctionSpace(mesh, family='DG', degree=0)\n",
    "η = firedrake.project(hs[0] + b, Q0)\n",
    "\n",
    "import matplotlib.pyplot as plt\n",
    "from matplotlib.animation import FuncAnimation\n",
    "\n",
    "fig, axes = plt.subplots()\n",
    "axes.set_aspect('equal')\n",
    "axes.get_xaxis().set_visible(False)\n",
    "axes.get_yaxis().set_visible(False)\n",
    "colors = firedrake.tripcolor(\n",
    "    η, num_sample_points=1, vmin=0.5, vmax=1.2, axes=axes\n",
    ")\n",
    "fig.colorbar(colors)\n",
    "\n",
    "def animate(h):\n",
    "    η.project(h + b)\n",
    "    colors.set_array(η.dat.data_ro[:])\n",
    "\n",
    "interval = 1e3 * output_freq * dt\n",
    "animation = FuncAnimation(fig, animate, frames=hs, interval=interval)"
   ]
  },
  {
   "cell_type": "markdown",
   "metadata": {},
   "source": [
    "The fluid immediately builds up on the stoss side of the frictional obstacle and drops sharply on the lee side.\n",
    "A cool effect you can see in the movie is how the collision of the fluid generates waves that propagate back upstream and bounce off the walls before being forced back in the other direction by the prevailing flow."
   ]
  },
  {
   "cell_type": "code",
   "execution_count": null,
   "metadata": {},
   "outputs": [],
   "source": [
    "from IPython.display import HTML\n",
    "HTML(animation.to_html5_video())"
   ]
  },
  {
   "cell_type": "markdown",
   "metadata": {},
   "source": [
    "We could use the same mechanism shown above to add other kinds of dynamics to the system.\n",
    "For example, we could add sources of mass, viscous diffusion of momentum, or the coriolis effect.\n",
    "Knowing which kinds of dynamics are stiff or not requires understanding the spectrum of the linearization of the resulting operator."
   ]
  }
 ],
 "metadata": {
  "kernelspec": {
   "display_name": "firedrake",
   "language": "python",
   "name": "firedrake"
  },
  "language_info": {
   "codemirror_mode": {
    "name": "ipython",
    "version": 3
   },
   "file_extension": ".py",
   "mimetype": "text/x-python",
   "name": "python",
   "nbconvert_exporter": "python",
   "pygments_lexer": "ipython3",
   "version": "3.7.4"
  }
 },
 "nbformat": 4,
 "nbformat_minor": 4
}
