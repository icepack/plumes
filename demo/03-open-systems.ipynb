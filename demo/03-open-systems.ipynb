{
 "cells": [
  {
   "cell_type": "markdown",
   "metadata": {},
   "source": [
    "# Open systems\n",
    "\n",
    "In the previous demo, we looked at what happens when you switch from a periodic mesh to a rectangle mesh.\n",
    "When you don't use any other boundary conditions, the equation builder assumes that you want rigid walls and as a consequence the waves reflect off of the walls rather than go back around to the other side.\n",
    "In this demo, we'll continue on this theme but instead look at how to have an inflow and an outflow boundary."
   ]
  },
  {
   "cell_type": "code",
   "execution_count": null,
   "metadata": {},
   "outputs": [],
   "source": [
    "import firedrake\n",
    "nx, ny = 24, 24\n",
    "Lx, Ly = 20.0, 20.0\n",
    "mesh = firedrake.RectangleMesh(nx, ny, Lx, Ly, diagonal='crossed')"
   ]
  },
  {
   "cell_type": "markdown",
   "metadata": {},
   "source": [
    "In the last demo, every boundary was a rigid wall by default and we didn't have to figure out how to apply different conditions to different segments.\n",
    "Here we'll need to actually know how to distinguish different segments because we'll want walls at the top and bottom, inflow at the left, and outflow at the right.\n",
    "The mesh data structures in Firedrake come with a set of numerical boundary IDs.\n",
    "We can visualize these using the Firedrake `triplot` function and adding a legend to the figure."
   ]
  },
  {
   "cell_type": "code",
   "execution_count": null,
   "metadata": {},
   "outputs": [],
   "source": [
    "import matplotlib.pyplot as plt\n",
    "fig, axes = plt.subplots()\n",
    "axes.set_aspect('equal')\n",
    "firedrake.triplot(mesh, axes=axes)\n",
    "axes.legend();"
   ]
  },
  {
   "cell_type": "markdown",
   "metadata": {},
   "source": [
    "We'll once again use the DG(1)/BDFM(2) element pair."
   ]
  },
  {
   "cell_type": "code",
   "execution_count": null,
   "metadata": {},
   "outputs": [],
   "source": [
    "degree = 1\n",
    "Q = firedrake.FunctionSpace(mesh, 'DG', degree)\n",
    "V = firedrake.FunctionSpace(mesh, 'BDFM', degree + 1)\n",
    "\n",
    "Z = Q * V\n",
    "z_0 = firedrake.Function(Z)"
   ]
  },
  {
   "cell_type": "markdown",
   "metadata": {},
   "source": [
    "Here we'll define the values of the thickness and momentum at the inflow boundary.\n",
    "We'll use a very high inflow velocity -- 2.5 m/s -- in order to exaggerate the effect of a surface wave both spreading and being propagated downstream."
   ]
  },
  {
   "cell_type": "code",
   "execution_count": null,
   "metadata": {},
   "outputs": [],
   "source": [
    "from firedrake import inner, max_value, Constant\n",
    "\n",
    "x = firedrake.SpatialCoordinate(mesh)\n",
    "\n",
    "H = Constant(1.0)\n",
    "u_in = Constant(2.5)\n",
    "q_in = H * Constant((u_in, 0.0))\n",
    "\n",
    "δh = 0.025\n",
    "y = Constant((Lx / 2, Ly / 2))\n",
    "r = Constant(Lx / 10)\n",
    "h_expr = H + δh * max_value(0, 1 - inner(x - y, x - y) / r**2)\n",
    "\n",
    "b = Constant(0.0) * x[0]"
   ]
  },
  {
   "cell_type": "code",
   "execution_count": null,
   "metadata": {},
   "outputs": [],
   "source": [
    "h_0, q_0 = z_0.split()\n",
    "h_0.project(h_expr)\n",
    "q_0.project(q_in);"
   ]
  },
  {
   "cell_type": "code",
   "execution_count": null,
   "metadata": {},
   "outputs": [],
   "source": [
    "import numpy as np\n",
    "from plumes.coefficients import gravity\n",
    "C = abs(float(u_in)) + np.sqrt(gravity * float(H))\n",
    "δx = mesh.cell_sizes.dat.data_ro[:].min()\n",
    "timestep = (δx / 4) / C / (2 * degree + 1)\n",
    "\n",
    "final_time = 4 * Lx / C\n",
    "num_steps = int(final_time / timestep)\n",
    "dt = final_time / num_steps\n",
    "\n",
    "output_time = 1 / 30\n",
    "output_freq = max(int(output_time / dt), 1)"
   ]
  },
  {
   "cell_type": "code",
   "execution_count": null,
   "metadata": {},
   "outputs": [],
   "source": [
    "from plumes.models import shallow_water\n",
    "g = firedrake.Constant(gravity)\n",
    "bcs = {\n",
    "    'thickness_in': H,\n",
    "    'momentum_in': q_in,\n",
    "    'inflow_ids': (1,),\n",
    "    'outflow_ids': (2,)\n",
    "}\n",
    "equation = shallow_water.make_equation(g, b, **bcs)"
   ]
  },
  {
   "cell_type": "code",
   "execution_count": null,
   "metadata": {},
   "outputs": [],
   "source": [
    "import tqdm\n",
    "from plumes import numerics\n",
    "integrator = numerics.SSPRK34(equation, z_0)\n",
    "\n",
    "hs = []\n",
    "qs = []\n",
    "\n",
    "progress_bar = tqdm.trange(num_steps)\n",
    "for step in progress_bar:\n",
    "    if step % output_freq == 0:\n",
    "        z = integrator.state\n",
    "        h, q = z.split()\n",
    "        hmin, hmax = h.dat.data_ro[:].min(), h.dat.data_ro[:].max()\n",
    "        progress_bar.set_description(f'{hmin:5.3f}, {hmax:5.3f}')\n",
    "        hs.append(h.copy(deepcopy=True))\n",
    "        qs.append(q.copy(deepcopy=True))\n",
    "    \n",
    "    integrator.step(dt)"
   ]
  },
  {
   "cell_type": "code",
   "execution_count": null,
   "metadata": {},
   "outputs": [],
   "source": [
    "%%capture\n",
    "Q0 = firedrake.FunctionSpace(mesh, 'DG', 0)\n",
    "η = firedrake.project(hs[0] + b, Q0)\n",
    "\n",
    "import matplotlib.pyplot as plt\n",
    "from matplotlib.animation import FuncAnimation\n",
    "\n",
    "fig, axes = plt.subplots()\n",
    "axes.set_aspect('equal')\n",
    "axes.get_xaxis().set_visible(False)\n",
    "axes.get_yaxis().set_visible(False)\n",
    "axes.set_xlim((0, Lx))\n",
    "axes.set_ylim((0, Ly))\n",
    "colors = firedrake.tripcolor(\n",
    "    η, num_sample_points=1, vmin=0.95, vmax=1.05, axes=axes\n",
    ")\n",
    "\n",
    "def animate(h):\n",
    "    η.project(h + b)\n",
    "    colors.set_array(η.dat.data_ro[:])\n",
    "\n",
    "interval = 1e3 * output_freq * dt\n",
    "animation = FuncAnimation(fig, animate, frames=hs, interval=interval)"
   ]
  },
  {
   "cell_type": "code",
   "execution_count": null,
   "metadata": {},
   "outputs": [],
   "source": [
    "from IPython.display import HTML\n",
    "HTML(animation.to_html5_video())"
   ]
  }
 ],
 "metadata": {
  "kernelspec": {
   "display_name": "firedrake",
   "language": "python",
   "name": "firedrake"
  },
  "language_info": {
   "codemirror_mode": {
    "name": "ipython",
    "version": 3
   },
   "file_extension": ".py",
   "mimetype": "text/x-python",
   "name": "python",
   "nbconvert_exporter": "python",
   "pygments_lexer": "ipython3",
   "version": "3.7.4"
  }
 },
 "nbformat": 4,
 "nbformat_minor": 4
}
