{
 "cells": [
  {
   "cell_type": "markdown",
   "metadata": {},
   "source": [
    "# Ice shelf plumes\n",
    "\n",
    "This notebook will show the model for buoyant meltwater plumes under ice shelves.\n",
    "We'll use a synthetic geometry for this notebook; in later examples we'll use real data.\n",
    "You can think of the plume model as consisting mostly of the shallow water equations with friction, with the sign of gravity flipped, and with a few extra fields along for the ride."
   ]
  },
  {
   "cell_type": "code",
   "execution_count": null,
   "metadata": {},
   "outputs": [],
   "source": [
    "import firedrake\n",
    "Lx, Ly = 20e3, 20e3\n",
    "nx, ny = 20, 20\n",
    "mesh = firedrake.RectangleMesh(nx, ny, Lx, Ly, diagonal='crossed')"
   ]
  },
  {
   "cell_type": "code",
   "execution_count": null,
   "metadata": {},
   "outputs": [],
   "source": [
    "degree = 1\n",
    "Q = firedrake.FunctionSpace(mesh, 'DG', degree)\n",
    "V = firedrake.VectorFunctionSpace(mesh, 'DG', degree)\n",
    "Z = Q * V * Q * Q"
   ]
  },
  {
   "cell_type": "markdown",
   "metadata": {},
   "source": [
    "These temperature and salinity values are what you might find around, say, the Filchner-Ronne Ice Shelf.\n",
    "The \"hssw\" stands for *high-salinity shelf water*.\n",
    "This terminology is confusing because by \"shelf\" they mean continental shelf, not ice shelf."
   ]
  },
  {
   "cell_type": "code",
   "execution_count": null,
   "metadata": {},
   "outputs": [],
   "source": [
    "from firedrake import Constant\n",
    "T_hssw = Constant(-1.91)\n",
    "s_hssw = Constant(34.65)"
   ]
  },
  {
   "cell_type": "markdown",
   "metadata": {},
   "source": [
    "Melted ice shelf water (ISW) is very cold but has virtually no salt and so is more buoyant."
   ]
  },
  {
   "cell_type": "code",
   "execution_count": null,
   "metadata": {},
   "outputs": [],
   "source": [
    "T_isw = Constant(-3.5)\n",
    "s_isw = Constant(0.0)"
   ]
  },
  {
   "cell_type": "code",
   "execution_count": null,
   "metadata": {},
   "outputs": [],
   "source": [
    "a = Constant(0.05)\n",
    "T = Constant((1 - a) * T_hssw + a * T_isw)\n",
    "s = Constant((1 - a) * s_hssw + a * s_isw)"
   ]
  },
  {
   "cell_type": "markdown",
   "metadata": {},
   "source": [
    "The factor that we're writing here as $\\delta\\ln\\rho$ is the relative density contrast of the plume water over the ambient ocean."
   ]
  },
  {
   "cell_type": "code",
   "execution_count": null,
   "metadata": {},
   "outputs": [],
   "source": [
    "from plumes import coefficients\n",
    "β_T = coefficients.thermal_expansion\n",
    "β_S = coefficients.haline_contraction\n",
    "\n",
    "δlnρ_0 = β_S * (s_hssw - s) - β_T * (T_hssw - T)\n",
    "print(float(δlnρ_0))"
   ]
  },
  {
   "cell_type": "code",
   "execution_count": null,
   "metadata": {},
   "outputs": [],
   "source": [
    "x = firedrake.SpatialCoordinate(mesh)"
   ]
  },
  {
   "cell_type": "code",
   "execution_count": null,
   "metadata": {},
   "outputs": [],
   "source": [
    "z_in = Constant(-600.0)\n",
    "z_out = Constant(-300.0)\n",
    "X = x[0] / Lx\n",
    "z_d = (1 - X) * z_in + X * z_out"
   ]
  },
  {
   "cell_type": "code",
   "execution_count": null,
   "metadata": {},
   "outputs": [],
   "source": [
    "D_in = Constant(0.1)\n",
    "u_in = Constant(0.01)"
   ]
  },
  {
   "cell_type": "code",
   "execution_count": null,
   "metadata": {},
   "outputs": [],
   "source": [
    "δD = Constant(0.0)\n",
    "δu = Constant(0.0)"
   ]
  },
  {
   "cell_type": "markdown",
   "metadata": {},
   "source": [
    "The plume model is more complex than the advection and shallow water models.\n",
    "It includes lots of physical processes besides just the transport of water.\n",
    "You could try to spin up a model including all of these processes from a cold initial state, but you're probably going to have a bad time.\n",
    "Instead, we've encapsulated all of these processes into a class called `PlumePhysics`.\n",
    "You can override the member functions of this class in order to simplify the model and that's what we'll do to spin it up to steady state.\n",
    "First, let's look at what member functions `PlumePhysics` contains."
   ]
  },
  {
   "cell_type": "code",
   "execution_count": null,
   "metadata": {},
   "outputs": [],
   "source": [
    "from plumes.models import plume\n",
    "help(plume.PlumePhysics)"
   ]
  },
  {
   "cell_type": "markdown",
   "metadata": {},
   "source": [
    "So the `PlumePhysics` class has four member functions:\n",
    "\n",
    "* `melting_temperature`: What is the melting point of ice?\n",
    "This depends on the salinity and pressure.\n",
    "We can calculate the pressure based on the density of seawater and the ice shelf draft.\n",
    "* `melt_rate`: Knowing the melting point, how fast is the ice melting?\n",
    "The melt rate depends on how far the plume temperature is above the melting temperature and how fast the plume can remove the latent heat.\n",
    "* `entrainment_rate`: How fast is the plume pulling in water from the ambient ocean? This is proportional to the correlation between the plume velocity and the slope of the ice shelf.\n",
    "* `density_contrast`: How buoyant is the plume water relative to the ambient ocean?\n",
    "This is the the $\\delta\\ln\\rho$ term we've written above and it acts like a multiplicative factor before the gravitational constant.\n",
    "This term then also modifies the shallow water wave speed.\n",
    "\n",
    "To start with a more simplified model, we'll create a subclass of `PlumePhysics` and override three of these methods in order to turn off a few feedbacks at first.\n",
    "First, we'll turn off all feedbacks to the melting temperature, which we'll set to be 0${}^\\circ$C.\n",
    "We'll also set the melt rate to 0; the plume will grow only by entrainment of the background ocean.\n",
    "Finally, we'll set the relative density to be a constant, turning off the feedback of temperature and salinity into this variable."
   ]
  },
  {
   "cell_type": "code",
   "execution_count": null,
   "metadata": {},
   "outputs": [],
   "source": [
    "class SimplePhysics(plume.PlumePhysics):\n",
    "    def __init__(self, **kwargs):\n",
    "        super().__init__(**kwargs)\n",
    "        self.temperature_switch = firedrake.Constant(0.0)\n",
    "        self.melt_rate_switch = firedrake.Constant(0.0)\n",
    "        self.density_contrast_switch = firedrake.Constant(0.0)\n",
    "        self.entrainment_switch = firedrake.Constant(0.0)\n",
    "        \n",
    "    def melting_temperature(self, fields, **inputs):\n",
    "        T_m = super().melting_temperature(fields, **inputs)\n",
    "        α = self.temperature_switch\n",
    "        return (1 - α) * firedrake.Constant(0.0) + α * T_m\n",
    "        \n",
    "    def melt_rate(self, fields, **inputs):\n",
    "        m = super().melt_rate(fields, **inputs)\n",
    "        α = self.melt_rate_switch\n",
    "        return (1 - α) * firedrake.Constant(0.0) + α * m\n",
    "\n",
    "    def density_contrast(self, fields, **inputs):\n",
    "        δlnρ = super().density_contrast(fields, **inputs)\n",
    "        α = self.density_contrast_switch\n",
    "        return (1 - α) * firedrake.Constant(δlnρ_0) + α * δlnρ\n",
    "    \n",
    "    def entrainment_rate(self, fields, **inputs):\n",
    "        e = super().entrainment_rate(fields, **inputs)\n",
    "        α = self.entrainment_switch\n",
    "        return (1 - α) * firedrake.Constant(0.0) + α * e\n",
    "    \n",
    "physics = SimplePhysics()"
   ]
  },
  {
   "cell_type": "markdown",
   "metadata": {},
   "source": [
    "The entrainment rate function will be the same as in the parent class.\n",
    "Now just to tidy things up a bit we'll create some dictionaries that describe the external inputs to the system -- the state of the ambient ocean and the ice shelf cavity geometry -- as well as the forcing at the system boundary."
   ]
  },
  {
   "cell_type": "code",
   "execution_count": null,
   "metadata": {},
   "outputs": [],
   "source": [
    "from firedrake import as_vector\n",
    "\n",
    "inputs = {\n",
    "    'temperature_ambient': T,\n",
    "    'salinity_ambient': s,\n",
    "    'ice_shelf_draft': z_d\n",
    "}\n",
    "\n",
    "bcs = {\n",
    "    'thickness_in': D_in,\n",
    "    'momentum_in': D_in * Constant((u_in, 0.0)),\n",
    "    'energy_in': Constant(D_in * T),\n",
    "    'salt_in': Constant(D_in * s),\n",
    "    'inflow_ids': (1,),\n",
    "    'outflow_ids': (2,)\n",
    "}"
   ]
  },
  {
   "cell_type": "markdown",
   "metadata": {},
   "source": [
    "Now we'll create the equations describing the plume model with the input data we've created above.\n",
    "The transport equation includes all terms describing the fluxes of mass, momentum, heat, and salt.\n",
    "The source equation includes sources of mass, heat, and salt through melting of the ice shelf and entrainment of the ambient ocean.\n",
    "These equations are non-stiff, so these will get lumped together and passed as the explicit part of an IMEX scheme.\n",
    "\n",
    "The plume model defines the sink equation -- which includes frictional dissipation of momentum and relaxation of the plume temperature to the freezing point -- as a separate function because these terms are stiff.\n",
    "We'll pass this equation as the implicit part of the IMEX scheme."
   ]
  },
  {
   "cell_type": "code",
   "execution_count": null,
   "metadata": {},
   "outputs": [],
   "source": [
    "def equation(fields):\n",
    "    transport_equation = plume.make_transport_equation(\n",
    "        physics, **inputs, **bcs\n",
    "    )\n",
    "\n",
    "    source_equation = plume.make_source_equation(\n",
    "        physics, **inputs, **bcs\n",
    "    )\n",
    "    \n",
    "    return transport_equation(fields) + source_equation(fields)\n",
    "\n",
    "\n",
    "sink_equation = plume.make_sink_equation(\n",
    "    physics, **inputs, **bcs\n",
    ")"
   ]
  },
  {
   "cell_type": "markdown",
   "metadata": {},
   "source": [
    "First we have to find a timestep that satisfies the CFL condition."
   ]
  },
  {
   "cell_type": "code",
   "execution_count": null,
   "metadata": {},
   "outputs": [],
   "source": [
    "import numpy as np\n",
    "from plumes.coefficients import gravity as g\n",
    "C_0 = abs(float(u_in)) + np.sqrt(float(δlnρ_0) * g * float(D_in + δD))\n",
    "δx = mesh.cell_sizes.dat.data_ro[:].min()\n",
    "timestep = (δx / 20) / C_0 / (2 * degree + 1)\n",
    "\n",
    "final_time = 5 * Lx / C_0\n",
    "num_steps = int(final_time / timestep)\n",
    "dt = final_time / num_steps"
   ]
  },
  {
   "cell_type": "code",
   "execution_count": null,
   "metadata": {},
   "outputs": [],
   "source": [
    "print(f'Final time:     {final_time / (24 * 60 * 60):5.3f} days')\n",
    "print(f'Wave speed:     {C_0:5.3f} m / s')\n",
    "print(f'Min cell size:  {δx:5.3f} m')\n",
    "print(f'Timestep:       {timestep:5.3f} s')"
   ]
  },
  {
   "cell_type": "code",
   "execution_count": null,
   "metadata": {},
   "outputs": [],
   "source": [
    "fields = firedrake.Function(Z)\n",
    "D, q, E, S = fields.split()\n",
    "\n",
    "D.project(D_in + δD * X)\n",
    "q.project(D * as_vector((u_in + δu * X, 0.0)))\n",
    "E.project(D * T)\n",
    "S.project(D * s)\n",
    "\n",
    "parameters = {\n",
    "    'form_compiler_parameters': {\n",
    "        'quadrature_degree': 4\n",
    "    }\n",
    "}\n",
    "\n",
    "from plumes import numerics\n",
    "integrator = numerics.IMEX(\n",
    "    equation,\n",
    "    sink_equation,\n",
    "    fields,\n",
    "    timestep,\n",
    "    **parameters\n",
    ")"
   ]
  },
  {
   "cell_type": "markdown",
   "metadata": {},
   "source": [
    "In order to guarantee numerical stability, we'll have to keep track of what the maximum wave speed is throughout the domain at every timestep.\n",
    "We'll then adjust the timestep down if need be."
   ]
  },
  {
   "cell_type": "code",
   "execution_count": null,
   "metadata": {},
   "outputs": [],
   "source": [
    "import tqdm\n",
    "from firedrake import sqrt, inner, max_value\n",
    "Q_0 = firedrake.FunctionSpace(mesh, family='DG', degree=0)\n",
    "wave_speed = firedrake.Function(Q_0)\n",
    "\n",
    "limiter = firedrake.VertexBasedLimiter(Q)\n",
    "elapsed_time = 0.0\n",
    "\n",
    "with tqdm.tqdm(total=final_time, unit_scale=True) as progress_bar:\n",
    "    while elapsed_time < final_time:\n",
    "        D, q = integrator.state.split()[:2]\n",
    "        u = q / D\n",
    "\n",
    "        wave_speed.project(sqrt(inner(u, u)) + δlnρ_0 * g * D)\n",
    "        C = wave_speed.dat.data_ro[:].max()\n",
    "        cfl_timestep = δx / C / (2 * degree + 1)\n",
    "        dt = min(dt, cfl_timestep / 4)\n",
    "\n",
    "        Dmin, Dmax = D.dat.data_ro[:].min(), D.dat.data_ro[:].max()\n",
    "        progress_bar.set_description(f'{Dmin:5.3f}, {Dmax:5.3f}')\n",
    "\n",
    "        integrator.step(dt)\n",
    "        limiter.apply(D)\n",
    "\n",
    "        elapsed_time += dt\n",
    "        physics.entrainment_switch.assign(\n",
    "            max(0, min(1, (elapsed_time - Lx / C_0) / (3 * final_time / 4)))\n",
    "        )\n",
    "        progress_bar.update(dt)"
   ]
  },
  {
   "cell_type": "code",
   "execution_count": null,
   "metadata": {},
   "outputs": [],
   "source": [
    "import matplotlib.pyplot as plt\n",
    "fig, axes = plt.subplots()\n",
    "axes.set_aspect('equal')\n",
    "colors = firedrake.tripcolor(D, axes=axes)\n",
    "fig.colorbar(colors)"
   ]
  }
 ],
 "metadata": {
  "kernelspec": {
   "display_name": "firedrake",
   "language": "python",
   "name": "firedrake"
  },
  "language_info": {
   "codemirror_mode": {
    "name": "ipython",
    "version": 3
   },
   "file_extension": ".py",
   "mimetype": "text/x-python",
   "name": "python",
   "nbconvert_exporter": "python",
   "pygments_lexer": "ipython3",
   "version": "3.7.4"
  }
 },
 "nbformat": 4,
 "nbformat_minor": 4
}
