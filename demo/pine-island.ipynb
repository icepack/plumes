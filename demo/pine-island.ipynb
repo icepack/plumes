{
 "cells": [
  {
   "cell_type": "code",
   "execution_count": null,
   "metadata": {},
   "outputs": [],
   "source": [
    "import geojson\n",
    "import rasterio\n",
    "import icepack, icepack.meshing, icepack.datasets, icepack.plot"
   ]
  },
  {
   "cell_type": "markdown",
   "metadata": {},
   "source": [
    "### Geometry\n",
    "\n",
    "First, we'll load in a GeoJSON file describing the outline of Pine Island Ice Shelf.\n",
    "This outline was hand-digitized from the various input data sets we'll use in a GIS."
   ]
  },
  {
   "cell_type": "code",
   "execution_count": null,
   "metadata": {},
   "outputs": [],
   "source": [
    "outline_filename = 'pine-island-shelf.geojson'\n",
    "with open(outline_filename, 'r') as outline_file:\n",
    "    outline = geojson.load(outline_file)"
   ]
  },
  {
   "cell_type": "markdown",
   "metadata": {},
   "source": [
    "Next we'll use a few utility functions from icepack to turn this outline into the input format for the mesh generator [gmsh](https://www.gmsh.info).\n",
    "We can then generate an unstructured triangular mesh of the domain and load in that mesh."
   ]
  },
  {
   "cell_type": "code",
   "execution_count": null,
   "metadata": {},
   "outputs": [],
   "source": [
    "geometry = icepack.meshing.collection_to_geo(outline)\n",
    "with open('pine-island-shelf.geo', 'w') as geo_file:\n",
    "    geo_file.write(geometry.get_code())"
   ]
  },
  {
   "cell_type": "code",
   "execution_count": null,
   "metadata": {},
   "outputs": [],
   "source": [
    "!gmsh -2 -format msh2 -v 2 -o pine-island-shelf.msh pine-island-shelf.geo"
   ]
  },
  {
   "cell_type": "code",
   "execution_count": null,
   "metadata": {},
   "outputs": [],
   "source": [
    "import firedrake\n",
    "mesh = firedrake.Mesh('pine-island-shelf.msh')"
   ]
  },
  {
   "cell_type": "markdown",
   "metadata": {},
   "source": [
    "The colors correspond to the numeric IDs of each boundary segment (note the legend in the corner).\n",
    "We need a way of identifying different boundary conditions in the ice shelf flow model in order to determine where ice is flowing in from and where the terminus is."
   ]
  },
  {
   "cell_type": "code",
   "execution_count": null,
   "metadata": {},
   "outputs": [],
   "source": [
    "import icepack.plot\n",
    "fig, axes = icepack.plot.subplots()\n",
    "icepack.plot.triplot(mesh, axes=axes)\n",
    "axes.legend();"
   ]
  },
  {
   "cell_type": "markdown",
   "metadata": {},
   "source": [
    "### Input data\n",
    "\n",
    "Next we have to load in some observational data for the ice shelf draft.\n",
    "The demos for icepack include a module to fetch the most common observational data sets.\n",
    "We'll use BedMachine Antarctica because they've already done the hard work of things like firn and geoid corrections to ice shelf thickness.\n",
    "This routine will download the BedMachine dataset from NSIDC.\n",
    "If this is your first time running this notebook, you'll be prompted for your EarthData username and password."
   ]
  },
  {
   "cell_type": "code",
   "execution_count": null,
   "metadata": {},
   "outputs": [],
   "source": [
    "bedmachine_filename = icepack.datasets.fetch_bedmachine_antarctica()"
   ]
  },
  {
   "cell_type": "markdown",
   "metadata": {},
   "source": [
    "To get the ice shelf draft, we'll first get the surface elevation and thickness of the ice shelf."
   ]
  },
  {
   "cell_type": "code",
   "execution_count": null,
   "metadata": {},
   "outputs": [],
   "source": [
    "surface_grid = rasterio.open('netcdf:' + bedmachine_filename + ':surface', 'r')\n",
    "thickness_grid = rasterio.open('netcdf:' + bedmachine_filename + ':thickness', 'r')"
   ]
  },
  {
   "cell_type": "markdown",
   "metadata": {},
   "source": [
    "We'll represent the ice shelf draft using continuous, piecewise quadratic basis functions."
   ]
  },
  {
   "cell_type": "code",
   "execution_count": null,
   "metadata": {},
   "outputs": [],
   "source": [
    "Z = firedrake.FunctionSpace(mesh, family='CG', degree=2)"
   ]
  },
  {
   "cell_type": "markdown",
   "metadata": {},
   "source": [
    "Next we'll interpolate the gridded data to our finite element space."
   ]
  },
  {
   "cell_type": "code",
   "execution_count": null,
   "metadata": {},
   "outputs": [],
   "source": [
    "surface = icepack.interpolate(surface_grid, Z)\n",
    "thickness = icepack.interpolate(thickness_grid, Z)"
   ]
  },
  {
   "cell_type": "markdown",
   "metadata": {},
   "source": [
    "Finally we can get the ice shelf draft as the difference of the surface and the thickness."
   ]
  },
  {
   "cell_type": "code",
   "execution_count": null,
   "metadata": {},
   "outputs": [],
   "source": [
    "z_obs = firedrake.interpolate(surface - thickness, Z)"
   ]
  },
  {
   "cell_type": "code",
   "execution_count": null,
   "metadata": {},
   "outputs": [],
   "source": [
    "fig, axes = icepack.plot.subplots()\n",
    "contours = icepack.plot.tricontourf(z_obs, 40, axes=axes)\n",
    "fig.colorbar(contours);"
   ]
  },
  {
   "cell_type": "markdown",
   "metadata": {},
   "source": [
    "In the interest of keeping our numerical solver from losing its bloody mind, we'll smooth over the ice shelf draft a bit.\n",
    "The weirdest features look to have a radius of about 1km at most."
   ]
  },
  {
   "cell_type": "code",
   "execution_count": null,
   "metadata": {},
   "outputs": [],
   "source": [
    "from firedrake import inner, grad, dx\n",
    "z = firedrake.Function(Z)\n",
    "α = firedrake.Constant(1e3)\n",
    "\n",
    "J = 0.5 * ((z - z_obs)**2 + α**2 * inner(grad(z), grad(z))) * dx\n",
    "F = firedrake.derivative(J, z)\n",
    "firedrake.solve(F == 0, z)"
   ]
  },
  {
   "cell_type": "markdown",
   "metadata": {},
   "source": [
    "This is enough smoothing to keep the plume solver from exploding, but not so much as to wipe out features like sub-ice shelf channels."
   ]
  },
  {
   "cell_type": "code",
   "execution_count": null,
   "metadata": {},
   "outputs": [],
   "source": [
    "fig, axes = icepack.plot.subplots()\n",
    "contours = icepack.plot.tricontourf(z, 40, axes=axes)\n",
    "fig.colorbar(contours);"
   ]
  },
  {
   "cell_type": "markdown",
   "metadata": {},
   "source": [
    "Some amount of smoothing is also usually necessary for the ice flow model too.\n",
    "Newer remote sensing platforms like ICESat-2 are sophisticated enough to resolve individual crevasses, introducing sharp breaks in the ice thickness.\n",
    "The gradient of the ice thickness is one of the sources of the ice flow model, so these features, which are of too small a scale to really influence the flow by themselves, end up breaking the numerics."
   ]
  },
  {
   "cell_type": "markdown",
   "metadata": {},
   "source": [
    "### Initial state\n",
    "\n",
    "First, we need to decide how we're going to represent the various spatial fields defined on the mesh.\n",
    "We'll use piecewise constant basis functions in each triangle to keep things as simple as possible.\n",
    "This basis makes our method is identical to a first-order finite volume method.\n",
    "To get a higher-order discretization, we could use basis functions with a higher polynomial degree.\n",
    "We would then need to also use a more accurate timestepping scheme and some kind of flux-limiting scheme."
   ]
  },
  {
   "cell_type": "code",
   "execution_count": null,
   "metadata": {},
   "outputs": [],
   "source": [
    "Q = firedrake.FunctionSpace(mesh, family='DG', degree=0)\n",
    "V = firedrake.VectorFunctionSpace(mesh, family='DG', degree=0)"
   ]
  },
  {
   "cell_type": "markdown",
   "metadata": {},
   "source": [
    "Next, we need to come up with some vaguely sane initial state of the plume.\n",
    "The model can quickly explode if we initialize it with a weird initial state that has large transients, so we need to find something vaguely reasonable."
   ]
  },
  {
   "cell_type": "code",
   "execution_count": null,
   "metadata": {},
   "outputs": [],
   "source": [
    "u = firedrake.project(grad(z), V)"
   ]
  },
  {
   "cell_type": "code",
   "execution_count": null,
   "metadata": {},
   "outputs": [],
   "source": [
    "fig, axes = icepack.plot.subplots()\n",
    "arrows = icepack.plot.quiver(u, axes=axes)\n",
    "fig.colorbar(arrows);"
   ]
  }
 ],
 "metadata": {
  "kernelspec": {
   "display_name": "firedrake",
   "language": "python",
   "name": "firedrake"
  },
  "language_info": {
   "name": "python",
   "pygments_lexer": "ipython3"
  }
 },
 "nbformat": 4,
 "nbformat_minor": 4
}
