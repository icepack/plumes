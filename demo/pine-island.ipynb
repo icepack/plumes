{
 "cells": [
  {
   "cell_type": "code",
   "execution_count": null,
   "metadata": {},
   "outputs": [],
   "source": [
    "import os\n",
    "import tqdm\n",
    "import geojson\n",
    "import rasterio\n",
    "import firedrake\n",
    "import icepack, icepack.plot\n",
    "import plumes"
   ]
  },
  {
   "cell_type": "markdown",
   "metadata": {},
   "source": [
    "### Geometry\n",
    "\n",
    "First, we'll load in a GeoJSON file describing the outline of Pine Island Ice Shelf.\n",
    "This outline was hand-digitized from the various input data sets we'll use in a GIS."
   ]
  },
  {
   "cell_type": "code",
   "execution_count": null,
   "metadata": {},
   "outputs": [],
   "source": [
    "outline_filename = 'pine-island-shelf.geojson'\n",
    "with open(outline_filename, 'r') as outline_file:\n",
    "    outline = geojson.load(outline_file)"
   ]
  },
  {
   "cell_type": "markdown",
   "metadata": {},
   "source": [
    "Next we'll use a few utility functions from icepack to turn this outline into the input format for the mesh generator [gmsh](https://www.gmsh.info).\n",
    "We can then generate an unstructured triangular mesh of the domain and load in that mesh."
   ]
  },
  {
   "cell_type": "code",
   "execution_count": null,
   "metadata": {},
   "outputs": [],
   "source": [
    "geometry = icepack.meshing.collection_to_geo(outline)\n",
    "with open('pine-island-shelf.geo', 'w') as geo_file:\n",
    "    geo_file.write(geometry.get_code())"
   ]
  },
  {
   "cell_type": "code",
   "execution_count": null,
   "metadata": {},
   "outputs": [],
   "source": [
    "!gmsh -2 -format msh2 -v 2 -o pine-island-shelf.msh pine-island-shelf.geo"
   ]
  },
  {
   "cell_type": "code",
   "execution_count": null,
   "metadata": {},
   "outputs": [],
   "source": [
    "mesh = firedrake.Mesh('pine-island-shelf.msh')"
   ]
  },
  {
   "cell_type": "markdown",
   "metadata": {},
   "source": [
    "The colors correspond to the numeric IDs of each boundary segment (note the legend in the corner).\n",
    "We need a way of identifying different boundary conditions in the ice shelf flow model in order to determine where ice is flowing in from and where the terminus is."
   ]
  },
  {
   "cell_type": "code",
   "execution_count": null,
   "metadata": {},
   "outputs": [],
   "source": [
    "fig, axes = icepack.plot.subplots()\n",
    "icepack.plot.triplot(mesh, axes=axes)\n",
    "axes.legend();"
   ]
  },
  {
   "cell_type": "markdown",
   "metadata": {},
   "source": [
    "### Input data\n",
    "\n",
    "Next we have to load in some observational data for the ice shelf draft.\n",
    "The demos for icepack include a module to fetch the most common observational data sets.\n",
    "We'll use BedMachine Antarctica because they've already done the hard work of things like firn and geoid corrections to ice shelf thickness.\n",
    "This routine will download the BedMachine dataset from NSIDC.\n",
    "If this is your first time running this notebook, you'll be prompted for your EarthData username and password."
   ]
  },
  {
   "cell_type": "code",
   "execution_count": null,
   "metadata": {},
   "outputs": [],
   "source": [
    "bedmachine_filename = icepack.datasets.fetch_bedmachine_antarctica()"
   ]
  },
  {
   "cell_type": "markdown",
   "metadata": {},
   "source": [
    "To get the ice shelf draft, we'll first get the surface elevation and thickness of the ice shelf."
   ]
  },
  {
   "cell_type": "code",
   "execution_count": null,
   "metadata": {},
   "outputs": [],
   "source": [
    "surface_grid = rasterio.open('netcdf:' + bedmachine_filename + ':surface', 'r')\n",
    "thickness_grid = rasterio.open('netcdf:' + bedmachine_filename + ':thickness', 'r')"
   ]
  },
  {
   "cell_type": "markdown",
   "metadata": {},
   "source": [
    "We'll represent the ice shelf draft using continuous, piecewise quadratic basis functions."
   ]
  },
  {
   "cell_type": "code",
   "execution_count": null,
   "metadata": {},
   "outputs": [],
   "source": [
    "Z = firedrake.FunctionSpace(mesh, family='CG', degree=2)"
   ]
  },
  {
   "cell_type": "markdown",
   "metadata": {},
   "source": [
    "Next we'll interpolate the gridded data to our finite element space."
   ]
  },
  {
   "cell_type": "code",
   "execution_count": null,
   "metadata": {},
   "outputs": [],
   "source": [
    "surface = icepack.interpolate(surface_grid, Z)\n",
    "thickness = icepack.interpolate(thickness_grid, Z)"
   ]
  },
  {
   "cell_type": "markdown",
   "metadata": {},
   "source": [
    "Finally we can get the ice shelf draft as the difference of the surface and the thickness."
   ]
  },
  {
   "cell_type": "code",
   "execution_count": null,
   "metadata": {},
   "outputs": [],
   "source": [
    "z_obs = firedrake.interpolate(surface - thickness, Z)"
   ]
  },
  {
   "cell_type": "code",
   "execution_count": null,
   "metadata": {},
   "outputs": [],
   "source": [
    "fig, axes = icepack.plot.subplots()\n",
    "contours = icepack.plot.tricontourf(z_obs, 40, axes=axes)\n",
    "fig.colorbar(contours);"
   ]
  },
  {
   "cell_type": "markdown",
   "metadata": {},
   "source": [
    "In the interest of keeping our numerical solver from losing its bloody mind, we'll smooth over the ice shelf.\n",
    "The spin-up of the plume will proceed in two stages.\n",
    "First, we'll use a very smooth ice shelf draft.\n",
    "Most of the interesting features, like sub-ice shelf channels, will have been diffused out.\n",
    "But this will make it easier to evolve the plume towards a sane steady state than if we had used the real data as-is.\n",
    "In the next phase, we'll slowly morph the ice shelf draft towards a value with a much lower smoothing length in order to recapture more of the features of the real data."
   ]
  },
  {
   "cell_type": "code",
   "execution_count": null,
   "metadata": {},
   "outputs": [],
   "source": [
    "from firedrake import inner, grad, dx, ds, Constant\n",
    "z = firedrake.Function(Z)\n",
    "α = firedrake.Constant(5e3)\n",
    "\n",
    "parameters = {\n",
    "    'solver_parameters': {\n",
    "        'ksp_type': 'preonly',\n",
    "        'pc_type': 'lu',\n",
    "        'pc_factor_mat_solver_type': 'mumps'\n",
    "    }\n",
    "}\n",
    "\n",
    "J = 0.5 * ((z - z_obs)**2 + α**2 * inner(grad(z), grad(z))) * dx\n",
    "F = firedrake.derivative(J, z)\n",
    "firedrake.solve(F == 0, z, **parameters)"
   ]
  },
  {
   "cell_type": "markdown",
   "metadata": {},
   "source": [
    "This is enough smoothing to keep the plume solver from exploding, but not so much as to wipe out features like sub-ice shelf channels."
   ]
  },
  {
   "cell_type": "code",
   "execution_count": null,
   "metadata": {},
   "outputs": [],
   "source": [
    "fig, axes = icepack.plot.subplots()\n",
    "contours = icepack.plot.tricontourf(z, 40, axes=axes)\n",
    "fig.colorbar(contours);"
   ]
  },
  {
   "cell_type": "markdown",
   "metadata": {},
   "source": [
    "Some amount of smoothing is also usually necessary for the ice flow model too.\n",
    "Newer remote sensing platforms like ICESat-2 are sophisticated enough to resolve individual crevasses, introducing sharp breaks in the ice thickness.\n",
    "The gradient of the ice thickness is one of the sources of the ice flow model, so these features, which are of too small a scale to really influence the flow by themselves, end up breaking the numerics."
   ]
  },
  {
   "cell_type": "markdown",
   "metadata": {},
   "source": [
    "### Initial state\n",
    "\n",
    "Next, we need to come up with some vaguely sane initial state of the plume.\n",
    "The model can quickly explode if we initialize it with a weird initial state that has large transients, so we need to find something vaguely reasonable.\n",
    "Roughly speaking, the fluid velocity should align with the gradient of the ice shelf bottom."
   ]
  },
  {
   "cell_type": "code",
   "execution_count": null,
   "metadata": {},
   "outputs": [],
   "source": [
    "W = firedrake.VectorFunctionSpace(mesh, family='CG', degree=2)\n",
    "grad_z = firedrake.project(grad(z), W)"
   ]
  },
  {
   "cell_type": "markdown",
   "metadata": {},
   "source": [
    "To make the initial velocity field, we'll solve an optimization problem.\n",
    "The objective functional will favor a velocity field that is:\n",
    "\n",
    "1. smoothly varying\n",
    "2. non-divergent\n",
    "3. aligns with the ice shelf draft gradient whenever it points into the domain\n",
    "\n",
    "Putting all of these criteria together, we get the objective \n",
    "\n",
    "$$J = \\frac{\\alpha^2}{2}\\int_\\Omega\\left\\{|\\nabla u|^2 + (\\nabla\\cdot u)^2\\right\\}dx + \\frac{\\alpha}{2}\\int_\\Gamma |u - v|^2ds$$\n",
    "\n",
    "where $\\Gamma$ is everything except the ice shelf terminus, $v$ is the inflow vector\n",
    "\n",
    "$$v = \\max\\{0, \\nu\\cdot\\nabla z_b\\}\\nu,$$\n",
    "\n",
    "and $\\nu$ the unit inward-pointing normal to the domain."
   ]
  },
  {
   "cell_type": "code",
   "execution_count": null,
   "metadata": {},
   "outputs": [],
   "source": [
    "from firedrake import div\n",
    "v = firedrake.Function(W)\n",
    "\n",
    "n = -firedrake.FacetNormal(mesh)\n",
    "v_n = firedrake.max_value(inner(grad_z, n), 0) * n\n",
    "\n",
    "terminus_ids = (2, 3, 4)\n",
    "J = (\n",
    "    0.5 * α**2 * (inner(grad(v), grad(v)) + div(v)**2) * dx +\n",
    "    0.5 * α * inner(v - v_n, v - v_n) * ds(terminus_ids)\n",
    ")\n",
    "F = firedrake.derivative(J, v)\n",
    "firedrake.solve(F == 0, v, **parameters)"
   ]
  },
  {
   "cell_type": "markdown",
   "metadata": {},
   "source": [
    "As a sanity check we can make a stream plot of the initial value of the plume velocity.\n",
    "The streamlines get thicker towards the end, so this vector field actually is going from the inflow boundary to the terminus as we had hoped."
   ]
  },
  {
   "cell_type": "code",
   "execution_count": null,
   "metadata": {},
   "outputs": [],
   "source": [
    "fig, axes = icepack.plot.subplots()\n",
    "firedrake.triplot(\n",
    "    mesh, axes=axes,\n",
    "    boundary_kw={'color': 'k'},\n",
    "    interior_kw={'linewidth': 0.05}\n",
    ")\n",
    "streamlines = firedrake.streamplot(v, resolution=2e3, seed=1, axes=axes)\n",
    "fig.colorbar(streamlines);"
   ]
  },
  {
   "cell_type": "markdown",
   "metadata": {},
   "source": [
    "The finite element space we used to calculate $v$ is not what we'll want to use to advect it through the ice shelf.\n",
    "For solving the (hyperbolic) PDEs describing flow in the plume, we'll instead want to use a discontinuous Galerkin basis.\n",
    "To keep things simple we'll use piecewise constant basis functions in each triangle.\n",
    "This basis makes our method is identical to a first-order finite volume method.\n",
    "To get a higher-order discretization, we could use basis functions with a higher polynomial degree.\n",
    "We would then need to also use a more accurate timestepping scheme and some kind of flux-limiting scheme."
   ]
  },
  {
   "cell_type": "code",
   "execution_count": null,
   "metadata": {},
   "outputs": [],
   "source": [
    "Q = firedrake.FunctionSpace(mesh, family='DG', degree=0)\n",
    "V = firedrake.FunctionSpace(mesh, family='RT', degree=1)"
   ]
  },
  {
   "cell_type": "code",
   "execution_count": null,
   "metadata": {},
   "outputs": [],
   "source": [
    "u_0 = firedrake.project(v, V)"
   ]
  },
  {
   "cell_type": "markdown",
   "metadata": {},
   "source": [
    "Next, we'll need some initial values for the plume thickness, temperature, and salinity.\n",
    "We'll use some very rough initial guesses for these based on the values we found in the synthetic demo."
   ]
  },
  {
   "cell_type": "code",
   "execution_count": null,
   "metadata": {},
   "outputs": [],
   "source": [
    "D_0 = firedrake.Function(Q)\n",
    "S_0 = firedrake.Function(Q)\n",
    "T_0 = firedrake.Function(Q)\n",
    "\n",
    "D_0.project(Constant(0.01))\n",
    "S_0.project(Constant(34.))\n",
    "T_0.project(Constant(-2.))"
   ]
  },
  {
   "cell_type": "markdown",
   "metadata": {},
   "source": [
    "Similarly, we'll use constant guesses for the background ocean salinity and temperature."
   ]
  },
  {
   "cell_type": "code",
   "execution_count": null,
   "metadata": {},
   "outputs": [],
   "source": [
    "T_hssw = Constant(-1.91)\n",
    "S_hssw = Constant(34.65)"
   ]
  },
  {
   "cell_type": "markdown",
   "metadata": {},
   "source": [
    "Now we can start setting up the plume model as in the synthetic demo."
   ]
  },
  {
   "cell_type": "code",
   "execution_count": null,
   "metadata": {},
   "outputs": [],
   "source": [
    "fields = {\n",
    "    'thickness': D_0.copy(deepcopy=True),\n",
    "    'velocity': u_0.copy(deepcopy=True),\n",
    "    'temperature': T_0.copy(deepcopy=True),\n",
    "    'salinity': S_0.copy(deepcopy=True)\n",
    "}\n",
    "\n",
    "inflow = {\n",
    "    'thickness_inflow': D_0,\n",
    "    'velocity_inflow': u_0,\n",
    "    'temperature_inflow': T_0,\n",
    "    'salinity_inflow': S_0\n",
    "}\n",
    "\n",
    "inputs = {\n",
    "    'ice_shelf_base': z,\n",
    "    'salinity_ambient': S_hssw,\n",
    "    'temperature_ambient': T_hssw\n",
    "}"
   ]
  },
  {
   "cell_type": "markdown",
   "metadata": {},
   "source": [
    "We'll start by just spinning up the mass, salinity, and temperature of the plume, holding the velocity fixed.\n",
    "The reason we're doing this is to get a critical thickness of the plume before spinning up the velocity.\n",
    "If we don't do this carefully, we can easily end up with a negative plume thickness."
   ]
  },
  {
   "cell_type": "code",
   "execution_count": null,
   "metadata": {},
   "outputs": [],
   "source": [
    "from plumes import Component\n",
    "\n",
    "model = plumes.PlumeModel()\n",
    "components = Component.Mass | Component.Salt | Component.Heat\n",
    "solver = plumes.PlumeSolver(\n",
    "    model, components,\n",
    "    **fields, **inflow, **inputs\n",
    ")"
   ]
  },
  {
   "cell_type": "markdown",
   "metadata": {},
   "source": [
    "Before we can begin, we need to pick a timestep that satisfies the Courant-Friedrichs-Lewy condition."
   ]
  },
  {
   "cell_type": "code",
   "execution_count": null,
   "metadata": {},
   "outputs": [],
   "source": [
    "import numpy as np\n",
    "#U = np.sqrt(np.sum(u_0.dat.data_ro[:]**2, axis=1)).max()\n",
    "δx = mesh.cell_sizes.dat.data_ro[:].min()\n",
    "#print(δx / U)\n",
    "print(δx)"
   ]
  },
  {
   "cell_type": "markdown",
   "metadata": {},
   "source": [
    "This is a very long timestep so if we instead use a value of, say 120s we'll be fine."
   ]
  },
  {
   "cell_type": "code",
   "execution_count": null,
   "metadata": {},
   "outputs": [],
   "source": [
    "timestep = 120.\n",
    "num_days = 1.\n",
    "final_time = num_days * 24 * 60 * 60\n",
    "num_steps = int(final_time / timestep)\n",
    "print(f'Number of steps: {num_steps}')\n",
    "dt = final_time / num_steps"
   ]
  },
  {
   "cell_type": "code",
   "execution_count": null,
   "metadata": {},
   "outputs": [],
   "source": [
    "import tqdm\n",
    "pbar = tqdm.trange(num_steps)\n",
    "for step in pbar:\n",
    "    solver.step(dt)\n",
    "\n",
    "    if step % 50 == 0:\n",
    "        D = solver.fields['thickness']\n",
    "        Dmin = D.dat.data_ro[:].min()\n",
    "        Dmax = D.dat.data_ro[:].max()\n",
    "        \n",
    "        pbar.set_description(f\"thickness min/max: ({Dmin:4.2f}, {Dmax:4.2f})\")"
   ]
  },
  {
   "cell_type": "code",
   "execution_count": null,
   "metadata": {},
   "outputs": [],
   "source": [
    "fig, axes = icepack.plot.subplots()\n",
    "D = solver.fields['thickness']\n",
    "triangles = icepack.plot.tripcolor(D, axes=axes)\n",
    "fig.colorbar(triangles);"
   ]
  },
  {
   "cell_type": "markdown",
   "metadata": {},
   "source": [
    "Now we can start spinning up the plume velocity."
   ]
  },
  {
   "cell_type": "code",
   "execution_count": null,
   "metadata": {},
   "outputs": [],
   "source": [
    "def run_stage(fields_initial, name, num_days, timestep):\n",
    "    fields = {\n",
    "        name: field.copy(deepcopy=True)\n",
    "        for name, field in fields_initial.items()\n",
    "    }\n",
    "    \n",
    "    if os.path.exists(name + '.h5'):\n",
    "        with firedrake.DumbCheckpoint(name, mode=firedrake.FILE_READ) as chk:\n",
    "            for name in ('thickness', 'temperature', 'salinity', 'velocity'):\n",
    "                chk.load(fields[name], name=name)\n",
    "                \n",
    "        return fields\n",
    "\n",
    "    components = Component.Mass | Component.Salt | Component.Heat | Component.Momentum\n",
    "    solver = plumes.PlumeSolver(\n",
    "        model, components,\n",
    "        **fields, **inflow, **inputs\n",
    "    )\n",
    "\n",
    "    final_time = num_days * 24 * 60 * 60\n",
    "    num_steps = int(final_time / timestep)\n",
    "    dt = final_time / num_steps\n",
    "\n",
    "    pbar = tqdm.trange(num_steps)\n",
    "    for step in pbar:\n",
    "        solver.step(dt)\n",
    "\n",
    "        if step % 50 == 0:\n",
    "            D = solver.fields['thickness']\n",
    "            Dmin = D.dat.data_ro[:].min()\n",
    "            Dmax = D.dat.data_ro[:].max()\n",
    "\n",
    "            pbar.set_description(\n",
    "                f\"thickness min/max: ({Dmin:4.2f}, {Dmax:4.2f})\"\n",
    "            )\n",
    "\n",
    "    with firedrake.DumbCheckpoint(name, mode=firedrake.FILE_CREATE) as chk:\n",
    "        for name in ('thickness', 'temperature', 'salinity', 'velocity'):\n",
    "            chk.store(solver.fields[name], name=name)\n",
    "            fields[name].assign(solver.fields[name])\n",
    "            \n",
    "    return fields"
   ]
  },
  {
   "cell_type": "code",
   "execution_count": null,
   "metadata": {},
   "outputs": [],
   "source": [
    "fields_initial = {\n",
    "    name: field.copy(deepcopy=True)\n",
    "    for name, field in solver.fields.items()\n",
    "}"
   ]
  },
  {
   "cell_type": "code",
   "execution_count": null,
   "metadata": {},
   "outputs": [],
   "source": [
    "fields_stage_1 = run_stage(fields_initial, 'stage-1', num_days=0.5, timestep=5)"
   ]
  },
  {
   "cell_type": "code",
   "execution_count": null,
   "metadata": {},
   "outputs": [],
   "source": [
    "fields_stage_2 = run_stage(fields_stage_1, 'stage-2', num_days=0.5, timestep=2.5)"
   ]
  },
  {
   "cell_type": "code",
   "execution_count": null,
   "metadata": {},
   "outputs": [],
   "source": [
    "fields_stage_3 = run_stage(fields_stage_2, 'stage-3', num_days=1., timestep=1.)"
   ]
  },
  {
   "cell_type": "code",
   "execution_count": null,
   "metadata": {},
   "outputs": [],
   "source": [
    "fields_stage_4 = run_stage(fields_stage_3, 'stage-4', num_days=1., timestep=2.)"
   ]
  },
  {
   "cell_type": "code",
   "execution_count": null,
   "metadata": {},
   "outputs": [],
   "source": [
    "fields_stage_5 = run_stage(fields_stage_4, 'stage-5', num_days=1., timestep=5.)"
   ]
  }
 ],
 "metadata": {
  "kernelspec": {
   "display_name": "firedrake",
   "language": "python",
   "name": "firedrake"
  },
  "language_info": {
   "name": "python",
   "pygments_lexer": "ipython3"
  }
 },
 "nbformat": 4,
 "nbformat_minor": 4
}
