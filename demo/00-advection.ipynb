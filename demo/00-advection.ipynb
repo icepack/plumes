{
 "cells": [
  {
   "cell_type": "markdown",
   "metadata": {},
   "source": [
    "# The scalar advection equation\n",
    "\n",
    "In this notebook, we'll show how to use the solvers in this package on a relatively simple problem, the linear conservative advection equation.\n",
    "First, we'll import the Firedrake package, create the geometry, and then create a function space.\n",
    "The geometry will be the unit square in 2D and, as a first pass, we'll use piecewise constant functions to represent our solution."
   ]
  },
  {
   "cell_type": "code",
   "execution_count": null,
   "metadata": {},
   "outputs": [],
   "source": [
    "import firedrake\n",
    "nx, ny = 32, 32\n",
    "mesh = firedrake.PeriodicUnitSquareMesh(nx, ny, diagonal='crossed')\n",
    "Q0 = firedrake.FunctionSpace(mesh, 'DG', 0)"
   ]
  },
  {
   "cell_type": "markdown",
   "metadata": {},
   "source": [
    "Next, we'll create the velocity field, which will be uniform solid body rotation about the center of the domain.\n",
    "The function `firedrake.SpatialCoordinate` returns an object `x` that represents symbolically an arbitrary point of the domain.\n",
    "We can then form symbolic expressions that represent functions of space by manipulating this object `x` algebraically."
   ]
  },
  {
   "cell_type": "code",
   "execution_count": null,
   "metadata": {},
   "outputs": [],
   "source": [
    "from firedrake import as_vector, Constant\n",
    "x = firedrake.SpatialCoordinate(mesh)\n",
    "y = Constant((0.5, 0.5))\n",
    "w = x - y\n",
    "u = as_vector((-w[1], +w[0]))"
   ]
  },
  {
   "cell_type": "markdown",
   "metadata": {},
   "source": [
    "We won't include any sources or sinks for now.\n",
    "We're creating this variable `s` to represent sources and sinks because we'll need to pass that to the function that forms the advection equation for us."
   ]
  },
  {
   "cell_type": "code",
   "execution_count": null,
   "metadata": {},
   "outputs": [],
   "source": [
    "s = Constant(0.)"
   ]
  },
  {
   "cell_type": "markdown",
   "metadata": {},
   "source": [
    "Now we'll create the initial value of the state variable.\n",
    "Once again, we'll create an expression through algebraic manipulation of the spatial coordinates `x` of the domain."
   ]
  },
  {
   "cell_type": "code",
   "execution_count": null,
   "metadata": {},
   "outputs": [],
   "source": [
    "from firedrake import inner, max_value\n",
    "z = Constant((1 / 3, 1 / 3))\n",
    "r = Constant(1 / 6)\n",
    "expr = max_value(0, 1 - inner(x - z, x - z) / r**2)"
   ]
  },
  {
   "cell_type": "markdown",
   "metadata": {},
   "source": [
    "This expression object is purely symbolic -- it doesn't have an array of coefficients because it hasn't been discretized yet.\n",
    "To create a discretized function, we'll `project` that expression into the function space that we created earlier."
   ]
  },
  {
   "cell_type": "code",
   "execution_count": null,
   "metadata": {},
   "outputs": [],
   "source": [
    "q_0 = firedrake.project(expr, Q0)"
   ]
  },
  {
   "cell_type": "markdown",
   "metadata": {},
   "source": [
    "Firedrake has some built-in hooks to matplotlib, so we can use this to check and make sure that we're actually prescribing the right initial condition."
   ]
  },
  {
   "cell_type": "code",
   "execution_count": null,
   "metadata": {},
   "outputs": [],
   "source": [
    "import matplotlib.pyplot as plt\n",
    "fig, axes = plt.subplots()\n",
    "axes.set_aspect('equal')\n",
    "colors = firedrake.tripcolor(q_0, axes=axes)\n",
    "fig.colorbar(colors);"
   ]
  },
  {
   "cell_type": "markdown",
   "metadata": {},
   "source": [
    "In order to get one full rotation, we'll use a final time of $2\\pi$.\n",
    "We then need to pick a timestep that will satisfy the Courant-Friedrichs-Lewy condition, since we'll be using an explicit timestepping scheme."
   ]
  },
  {
   "cell_type": "code",
   "execution_count": null,
   "metadata": {},
   "outputs": [],
   "source": [
    "import numpy as np\n",
    "final_time = 2 * np.pi\n",
    "min_diameter = mesh.cell_sizes.dat.data_ro[:].min()\n",
    "print(f'Smallest cell diameter: {min_diameter}')\n",
    "max_speed = 1 / np.sqrt(2)\n",
    "timestep = (min_diameter / 8) / max_speed\n",
    "num_steps = int(final_time / timestep)\n",
    "dt = final_time / num_steps"
   ]
  },
  {
   "cell_type": "markdown",
   "metadata": {},
   "source": [
    "Now we're getting to the good part.\n",
    "The subpackage `plumes.models` includes several Python modules.\n",
    "Each of those modules defines a different kind of model.\n",
    "Here we're looking at the advection equation because it's simple and it's a good test problem for debugging numerics and trying out different spatial or temporal discretization schemes.\n",
    "We'll look at other models and finally the plume model later.\n",
    "\n",
    "A physics model is described entirely by whatever the right-hand side of the evolution equation is.\n",
    "For the advection model, the evolution equation is\n",
    "\n",
    "$$\\partial_tq = -\\nabla\\cdot (qu) + s.$$\n",
    "\n",
    "The function `make_equation` that lives in the advection module takes in the velocity field $u$ and the source terms $s$.\n",
    "It returns another function that will then calculate the discretized form of the right-hand side of the last equation."
   ]
  },
  {
   "cell_type": "code",
   "execution_count": null,
   "metadata": {},
   "outputs": [],
   "source": [
    "from plumes import models\n",
    "equation = models.advection.make_equation(u, s)"
   ]
  },
  {
   "cell_type": "markdown",
   "metadata": {},
   "source": [
    "To solve this equation numerically, we'll create an integrator object, which lives in the module `plumes.numerics`.\n",
    "Here we'll use the very simple explicit Euler scheme.\n",
    "The integrator takes in the equation to be solve, the initial state, and a starting timestep."
   ]
  },
  {
   "cell_type": "code",
   "execution_count": null,
   "metadata": {},
   "outputs": [],
   "source": [
    "from plumes import numerics\n",
    "integrator = numerics.ExplicitEuler(equation, q_0)"
   ]
  },
  {
   "cell_type": "markdown",
   "metadata": {},
   "source": [
    "The integrator object has one job: to step the model forward by a given timestep.\n",
    "For this demo, we're passing the same value of the timestep on every iteration.\n",
    "Later we'll show how to do adaptive timestepping.\n",
    "\n",
    "The current solution is stored in the member `integrator.state`.\n",
    "What we'd like to do is extract the value of the solution every 30th of a second.\n",
    "We've also used the package `tqdm` to add a progress bar."
   ]
  },
  {
   "cell_type": "code",
   "execution_count": null,
   "metadata": {},
   "outputs": [],
   "source": [
    "import tqdm\n",
    "\n",
    "output_time = 1/30\n",
    "output_freq = int(output_time / dt)\n",
    "\n",
    "qs = []\n",
    "for step in tqdm.trange(num_steps):\n",
    "    q = integrator.state\n",
    "    if step % output_freq == 0:\n",
    "        qs.append(q.copy(deepcopy=True))\n",
    "    \n",
    "    integrator.step(dt)"
   ]
  },
  {
   "cell_type": "markdown",
   "metadata": {},
   "source": [
    "Now we can make a movie to visualize the results."
   ]
  },
  {
   "cell_type": "code",
   "execution_count": null,
   "metadata": {},
   "outputs": [],
   "source": [
    "%%capture\n",
    "fig, axes = plt.subplots()\n",
    "axes.set_aspect('equal')\n",
    "axes.get_xaxis().set_visible(False)\n",
    "axes.get_yaxis().set_visible(False)\n",
    "axes.set_xlim((0, 1))\n",
    "axes.set_ylim((0, 1))\n",
    "colors = firedrake.tripcolor(\n",
    "    q, num_sample_points=1, vmin=0., vmax=1., axes=axes\n",
    ")\n",
    "\n",
    "from matplotlib.animation import FuncAnimation\n",
    "def animate(q):\n",
    "    colors.set_array(q.dat.data_ro[:])\n",
    "\n",
    "interval = 1e3 * output_freq * dt\n",
    "animation = FuncAnimation(fig, animate, frames=qs, interval=interval)"
   ]
  },
  {
   "cell_type": "code",
   "execution_count": null,
   "metadata": {},
   "outputs": [],
   "source": [
    "from IPython.display import HTML\n",
    "HTML(animation.to_html5_video())"
   ]
  },
  {
   "cell_type": "markdown",
   "metadata": {},
   "source": [
    "The solution has become very diffused compared to its original value."
   ]
  },
  {
   "cell_type": "code",
   "execution_count": null,
   "metadata": {},
   "outputs": [],
   "source": [
    "from firedrake import assemble, dx\n",
    "assemble(abs(q - expr) * dx) / assemble(abs(expr) * dx)"
   ]
  },
  {
   "cell_type": "markdown",
   "metadata": {},
   "source": [
    "Nonetheless, the total volume is conserved."
   ]
  },
  {
   "cell_type": "code",
   "execution_count": null,
   "metadata": {},
   "outputs": [],
   "source": [
    "abs(assemble((q - expr) * dx))"
   ]
  },
  {
   "cell_type": "markdown",
   "metadata": {},
   "source": [
    "Moreover, the solution remains positive.\n",
    "Many high-order accurate discretization schemes are not positivity preserving."
   ]
  },
  {
   "cell_type": "code",
   "execution_count": null,
   "metadata": {},
   "outputs": [],
   "source": [
    "q.dat.data_ro[:].min()"
   ]
  }
 ],
 "metadata": {
  "kernelspec": {
   "display_name": "firedrake",
   "language": "python",
   "name": "firedrake"
  },
  "language_info": {
   "codemirror_mode": {
    "name": "ipython",
    "version": 3
   },
   "file_extension": ".py",
   "mimetype": "text/x-python",
   "name": "python",
   "nbconvert_exporter": "python",
   "pygments_lexer": "ipython3",
   "version": "3.7.4"
  }
 },
 "nbformat": 4,
 "nbformat_minor": 4
}
