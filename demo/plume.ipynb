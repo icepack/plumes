{
 "cells": [
  {
   "cell_type": "code",
   "execution_count": null,
   "metadata": {},
   "outputs": [],
   "source": [
    "%matplotlib notebook\n",
    "import matplotlib.pyplot as plt\n",
    "import tqdm\n",
    "import firedrake\n",
    "from firedrake import Constant, as_vector, interpolate, project\n",
    "import plumes, plumes.coefficients"
   ]
  },
  {
   "cell_type": "markdown",
   "metadata": {},
   "source": [
    "# Plumes\n",
    "\n",
    "This notebook will demonstrate the plume solver on a synthetic geometry.\n",
    "The prognostic variables that describe the plume are:\n",
    "\n",
    "* thickness $D$\n",
    "* velocity $u$\n",
    "* temperature $T$\n",
    "* salinity $S$\n",
    "\n",
    "The variables that characterize the external environment are:\n",
    "\n",
    "* ice shelf draft $z_b$\n",
    "* ambient ocean temperature $T_a$\n",
    "* ambient ocean salinity $S_a$\n",
    "\n",
    "The model also prescribes several auxiliary quantities as a function of both the plume state and ambient ocean state:\n",
    "\n",
    "* relative density contrast $\\delta\\ln\\rho$ between plume and ocean: a linear function of plume and ocean salinity and temperature\n",
    "* freezing temperature $T_f$: linear function of salinity and ice shelf draft\n",
    "* melt rate $\\dot m$ from ice shelf base: a function of freezing temperature, temperature, velocity\n",
    "* entrainment rate $\\dot e$ of background ocean water: a function of plume velocity and ice shelf draft\n",
    "\n",
    "We will spin the plume up to a steady state in several phases:\n",
    "\n",
    "1. hold the $T$ and $S$ fixed and spin up $D$ and $u$\n",
    "2. hold $D$ and $u$ fixed and spin up $T$ and $S$\n",
    "3. spin up all variables"
   ]
  },
  {
   "cell_type": "markdown",
   "metadata": {},
   "source": [
    "### Geometry and input data\n",
    "\n",
    "The domain will be a 20km x 20km ice shelf cavity.\n",
    "We'll use 64 quads on each side and we'll use degree-1 discontinuous basis functions."
   ]
  },
  {
   "cell_type": "code",
   "execution_count": null,
   "metadata": {},
   "outputs": [],
   "source": [
    "Lx, Ly = 20e3, 20e3\n",
    "nx, ny = 64, 64\n",
    "mesh = firedrake.RectangleMesh(nx, ny, Lx, Ly, quadrilateral=True)\n",
    "Z = firedrake.FunctionSpace(mesh, family='CG', degree=2)\n",
    "Q = firedrake.FunctionSpace(mesh, family='DQ', degree=0)\n",
    "V = firedrake.VectorFunctionSpace(mesh, family='DQ', degree=0)"
   ]
  },
  {
   "cell_type": "markdown",
   "metadata": {},
   "source": [
    "We'll assume that the background ocean has a temperature of $T = -1.91^\\circ$C and a salinity of $S = 34.65$ psu.\n",
    "These values come from Lazeroms 2018.\n",
    "(The HSSW subscript stands for high-salinity shelf water.)"
   ]
  },
  {
   "cell_type": "code",
   "execution_count": null,
   "metadata": {},
   "outputs": [],
   "source": [
    "T_hssw = Constant(-1.91)  # degrees C\n",
    "S_hssw = Constant(34.65)  # PSU"
   ]
  },
  {
   "cell_type": "markdown",
   "metadata": {},
   "source": [
    "Likewise these values are typical of melted ice shelf water (ISW), which is very cold and has virtually zero salt content."
   ]
  },
  {
   "cell_type": "code",
   "execution_count": null,
   "metadata": {},
   "outputs": [],
   "source": [
    "T_isw = Constant(-3.5)\n",
    "S_isw = Constant(0.)"
   ]
  },
  {
   "cell_type": "markdown",
   "metadata": {},
   "source": [
    "Now to make some synthetic initial data."
   ]
  },
  {
   "cell_type": "code",
   "execution_count": null,
   "metadata": {},
   "outputs": [],
   "source": [
    "x = firedrake.SpatialCoordinate(mesh)"
   ]
  },
  {
   "cell_type": "markdown",
   "metadata": {},
   "source": [
    "The ice shelf will be linearly sloping from a depth of 600m to a depth of 400m over the entire domain."
   ]
  },
  {
   "cell_type": "code",
   "execution_count": null,
   "metadata": {},
   "outputs": [],
   "source": [
    "z_in = Constant(-600.)\n",
    "z_out = Constant(-300.)\n",
    "X = x[0] / Constant(Lx)\n",
    "z_b = interpolate((1 - X) * z_in + X * z_out, Z)"
   ]
  },
  {
   "cell_type": "markdown",
   "metadata": {},
   "source": [
    "We have to fix the inflow thickness and velocity of the plume.\n",
    "**The inflow values are a form of boundary forcing and they never change.**"
   ]
  },
  {
   "cell_type": "code",
   "execution_count": null,
   "metadata": {},
   "outputs": [],
   "source": [
    "D_in = Constant(.1)\n",
    "u_in = Constant(.01)"
   ]
  },
  {
   "cell_type": "markdown",
   "metadata": {},
   "source": [
    "Next we have to make some kind of initial guess for the plume thickness and velocity everywhere.\n",
    "There's no good way to do this."
   ]
  },
  {
   "cell_type": "code",
   "execution_count": null,
   "metadata": {},
   "outputs": [],
   "source": [
    "δD = Constant(5.)\n",
    "δu = Constant(0.1)"
   ]
  },
  {
   "cell_type": "code",
   "execution_count": null,
   "metadata": {},
   "outputs": [],
   "source": [
    "D0 = interpolate(D_in + δD * X, Q)\n",
    "u0 = interpolate(as_vector((u_in + δu * X, 0.)), V)"
   ]
  },
  {
   "cell_type": "markdown",
   "metadata": {},
   "source": [
    "Finally, we'll guess that the initial salinity and temperature of the plume is about 90\\% towards that of the ambient ocean and 10\\% towards that of just-melted ice shelf water.\n",
    "I've chosen these values so that the initial temperature exceeds the freezing temperature, which will make the plume grow in thickness."
   ]
  },
  {
   "cell_type": "code",
   "execution_count": null,
   "metadata": {},
   "outputs": [],
   "source": [
    "a = Constant(0.1)\n",
    "T = Constant((1 - a) * T_hssw + a * T_isw)\n",
    "S = Constant((1 - a) * S_hssw + a * S_isw)\n",
    "\n",
    "print(float(T), float(S))"
   ]
  },
  {
   "cell_type": "markdown",
   "metadata": {},
   "source": [
    "The object called `model` that we create below is responsible for calculating all of the things that we listed at the start of this notebook -- the melt rate, the entrainment rate, the density contrast, as well as the fluxes and sources for all of the dynamical variables."
   ]
  },
  {
   "cell_type": "code",
   "execution_count": null,
   "metadata": {},
   "outputs": [],
   "source": [
    "model = plumes.PlumeModel()"
   ]
  },
  {
   "cell_type": "markdown",
   "metadata": {},
   "source": [
    "We'll use this now to calculate a few of these fields to check that the values are sane."
   ]
  },
  {
   "cell_type": "code",
   "execution_count": null,
   "metadata": {},
   "outputs": [],
   "source": [
    "freezing_temp_in = float(model.freezing_temperature(salinity=S, ice_shelf_base=z_in))\n",
    "freezing_temp_out = float(model.freezing_temperature(salinity=S, ice_shelf_base=z_out))\n",
    "print('Freezing temperature at:\\n  inflow: {}\\n  outflow: {}'\n",
    "      .format(freezing_temp_in, freezing_temp_out))"
   ]
  },
  {
   "cell_type": "markdown",
   "metadata": {},
   "source": [
    "The melt rate is positive but just barely -- the units below are in meters / year."
   ]
  },
  {
   "cell_type": "code",
   "execution_count": null,
   "metadata": {},
   "outputs": [],
   "source": [
    "melt = project(model.melt(velocity=u0, temperature=T, salinity=S, ice_shelf_base=z_b), Z)\n",
    "print(melt.at((Lx / 2, Ly / 2)) * 365.25 * 60 * 60)"
   ]
  },
  {
   "cell_type": "markdown",
   "metadata": {},
   "source": [
    "Finally let's make sure that the plume is buoyant by checking that the relative density contrast is positive."
   ]
  },
  {
   "cell_type": "code",
   "execution_count": null,
   "metadata": {},
   "outputs": [],
   "source": [
    "δlnρ = model.density_contrast(\n",
    "    temperature=T,\n",
    "    salinity=S,\n",
    "    temperature_ambient=T_hssw,\n",
    "    salinity_ambient=S_hssw\n",
    ")\n",
    "print(float(δlnρ))"
   ]
  },
  {
   "cell_type": "markdown",
   "metadata": {},
   "source": [
    "Finally we'll interpolate the salinity and temperature values to actual fields defined in the finite element space."
   ]
  },
  {
   "cell_type": "code",
   "execution_count": null,
   "metadata": {},
   "outputs": [],
   "source": [
    "S0 = interpolate(S, Q)\n",
    "T0 = interpolate(T, Q)"
   ]
  },
  {
   "cell_type": "markdown",
   "metadata": {},
   "source": [
    "### Initial spin-up\n",
    "\n",
    "Once we've created all the state variables and sources, we'll pack them into some dictionaries to pass to the solvers.\n",
    "These are:\n",
    "\n",
    "* `fields`: the dynamical variables of the system\n",
    "* `inflow`: boundary conditions; what's coming in from the grounding line\n",
    "* `inputs`: external state that interacts with the plume, including the shape of the ice shelf and the background ocean properties\n",
    "\n",
    "We could pass all these as keywords but this is more concise."
   ]
  },
  {
   "cell_type": "code",
   "execution_count": null,
   "metadata": {},
   "outputs": [],
   "source": [
    "fields = {\n",
    "    'thickness': D0.copy(deepcopy=True),\n",
    "    'velocity': u0.copy(deepcopy=True),\n",
    "    'temperature': T0.copy(deepcopy=True),\n",
    "    'salinity': S0.copy(deepcopy=True)\n",
    "}\n",
    "\n",
    "inflow = {\n",
    "    'thickness_inflow': D0,\n",
    "    'velocity_inflow': u0,\n",
    "    'temperature_inflow': T0,\n",
    "    'salinity_inflow': S0\n",
    "}\n",
    "\n",
    "inputs = {\n",
    "    'ice_shelf_base': z_b,\n",
    "    'salinity_ambient': S_hssw,\n",
    "    'temperature_ambient': T_hssw\n",
    "}"
   ]
  },
  {
   "cell_type": "markdown",
   "metadata": {},
   "source": [
    "Now we'll create the solver object.\n",
    "The model object only tells us what problem it is we're dealing with; the solver actually computes things.\n",
    "We'll pass some flags to the solver to tell it to only update the plume thickness and momentum."
   ]
  },
  {
   "cell_type": "code",
   "execution_count": null,
   "metadata": {},
   "outputs": [],
   "source": [
    "from plumes import Component\n",
    "components = Component.Mass | Component.Momentum\n",
    "solver = plumes.PlumeSolver(\n",
    "    model, components,\n",
    "    **fields, **inflow, **inputs\n",
    ")"
   ]
  },
  {
   "cell_type": "markdown",
   "metadata": {},
   "source": [
    "Now we choose a timestep that satisfies the Courant-Friedrichs-Lewy condition.\n",
    "This is challenging to do a priori -- the velocity increases during the simulation, so an initially good choice can become bad later on.\n",
    "You could tune this automatically but for now I've just done some trial and error.\n",
    "Once we've found a steady state we can diagnose it properly."
   ]
  },
  {
   "cell_type": "code",
   "execution_count": null,
   "metadata": {},
   "outputs": [],
   "source": [
    "δx = Lx / (nx + 1)\n",
    "timestep = δx / float(u_in + δu) / 128\n",
    "print(f'Timestep: {timestep}')"
   ]
  },
  {
   "cell_type": "code",
   "execution_count": null,
   "metadata": {},
   "outputs": [],
   "source": [
    "num_days = 1.\n",
    "final_time = num_days * 24 * 60 * 60\n",
    "num_steps = int(final_time / timestep)\n",
    "print(f'Number of steps: {num_steps}')\n",
    "dt = final_time / num_steps"
   ]
  },
  {
   "cell_type": "code",
   "execution_count": null,
   "metadata": {},
   "outputs": [],
   "source": [
    "pbar = tqdm.trange(num_steps)\n",
    "for step in pbar:\n",
    "    solver.step(dt)\n",
    "    D = solver.fields['thickness']\n",
    "    Dmin = D.dat.data_ro.min()\n",
    "    Dmax = D.dat.data_ro.max()\n",
    "    if step % 50 == 0:\n",
    "        pbar.set_description('thickness min/max: ({:4.2f}, {:4.2f})'\n",
    "                             .format(Dmin, Dmax))"
   ]
  },
  {
   "cell_type": "markdown",
   "metadata": {},
   "source": [
    "The max velocity at the end of the simulation is on the high side for global ocean circulation but not completely ridiculous."
   ]
  },
  {
   "cell_type": "code",
   "execution_count": null,
   "metadata": {},
   "outputs": [],
   "source": [
    "umax = solver.fields['velocity'].dat.data_ro[:, 0].max()\n",
    "print(f'max velocity: {umax}')"
   ]
  },
  {
   "cell_type": "markdown",
   "metadata": {},
   "source": [
    "The new timestep that works well with the CFL condition would be:"
   ]
  },
  {
   "cell_type": "code",
   "execution_count": null,
   "metadata": {},
   "outputs": [],
   "source": [
    "timestep = δx / umax / 8\n",
    "num_steps = int(final_time / timestep)\n",
    "dt = final_time / num_steps\n",
    "print(f'Timestep: {dt}')"
   ]
  },
  {
   "cell_type": "markdown",
   "metadata": {},
   "source": [
    "### Secondary spin-up\n",
    "\n",
    "Now we'll run the salinity and temperature to steady state, holding the thickness and velocity fixed.\n",
    "To do this, we'll change the `components` flag in the solver object."
   ]
  },
  {
   "cell_type": "code",
   "execution_count": null,
   "metadata": {},
   "outputs": [],
   "source": [
    "print(f'Before: {solver.components}')\n",
    "solver.components = Component.Heat | Component.Salt\n",
    "print(f'After: {solver.components}')"
   ]
  },
  {
   "cell_type": "markdown",
   "metadata": {},
   "source": [
    "And now for the show:"
   ]
  },
  {
   "cell_type": "code",
   "execution_count": null,
   "metadata": {},
   "outputs": [],
   "source": [
    "pbar = tqdm.trange(num_steps)\n",
    "for step in pbar:\n",
    "    solver.step(dt)\n",
    "    T = solver.fields['temperature']\n",
    "    Tmin = T.dat.data_ro.min()\n",
    "    Tmax = T.dat.data_ro.max()\n",
    "    if step % 50 == 0:\n",
    "        pbar.set_description('temperature min/max: ({:4.2f}, {:4.2f})'\n",
    "                             .format(Tmin, Tmax))"
   ]
  },
  {
   "cell_type": "code",
   "execution_count": null,
   "metadata": {},
   "outputs": [],
   "source": [
    "import matplotlib.pyplot as plt\n",
    "fig, axes = plt.subplots()\n",
    "axes.set_aspect('equal')\n",
    "tris = firedrake.tripcolor(solver.fields['temperature'], num_sample_points=24, axes=axes)\n",
    "fig.colorbar(tris)"
   ]
  },
  {
   "cell_type": "markdown",
   "metadata": {},
   "source": [
    "### Final spin-up\n",
    "\n",
    "Now we can add all components and pray."
   ]
  },
  {
   "cell_type": "code",
   "execution_count": null,
   "metadata": {},
   "outputs": [],
   "source": [
    "solver.components = Component.All\n",
    "\n",
    "num_days = 2.\n",
    "final_time = num_days * 24 * 60 * 60\n",
    "timestep = δx / umax / 8\n",
    "num_steps = int(final_time / timestep)\n",
    "dt = final_time / num_steps"
   ]
  },
  {
   "cell_type": "code",
   "execution_count": null,
   "metadata": {},
   "outputs": [],
   "source": [
    "import numpy as np\n",
    "\n",
    "us = np.zeros(num_steps)\n",
    "Ds = np.zeros((num_steps, 2))\n",
    "Ts = np.zeros_like(Ds)\n",
    "Ss = np.zeros_like(Ds)\n",
    "\n",
    "pbar = tqdm.trange(num_steps)\n",
    "for step in pbar:\n",
    "    solver.step(dt)\n",
    "    u = solver.fields['velocity']\n",
    "    D = solver.fields['thickness']\n",
    "    T = solver.fields['temperature']\n",
    "    S = solver.fields['salinity']\n",
    "    \n",
    "    us[step] = np.sqrt(np.sum(u.dat.data_ro**2, axis=1)).max()\n",
    "    Ds[step, :] = D.dat.data_ro.min(), D.dat.data_ro.max()\n",
    "    Ts[step, :] = T.dat.data_ro.min(), T.dat.data_ro.max()\n",
    "    Ss[step, :] = S.dat.data_ro.min(), S.dat.data_ro.max()\n",
    "\n",
    "    if step % 50 == 0:\n",
    "        pbar.set_description('velocity max: {:4.2f}'.format(us[step]))"
   ]
  },
  {
   "cell_type": "code",
   "execution_count": null,
   "metadata": {},
   "outputs": [],
   "source": [
    "fig, axes = plt.subplots()\n",
    "axes.plot(us)"
   ]
  },
  {
   "cell_type": "code",
   "execution_count": null,
   "metadata": {},
   "outputs": [],
   "source": [
    "fig, axes = plt.subplots()\n",
    "axes.plot(Ds[:, 0])\n",
    "axes.plot(Ds[:, 1])"
   ]
  },
  {
   "cell_type": "code",
   "execution_count": null,
   "metadata": {},
   "outputs": [],
   "source": [
    "fig, axes = plt.subplots()\n",
    "axes.plot(Ss[:, 0])\n",
    "axes.plot(Ss[:, 1])"
   ]
  }
 ],
 "metadata": {
  "kernelspec": {
   "display_name": "firedrake",
   "language": "python",
   "name": "firedrake"
  },
  "language_info": {
   "name": "python",
   "pygments_lexer": "ipython3"
  }
 },
 "nbformat": 4,
 "nbformat_minor": 4
}
