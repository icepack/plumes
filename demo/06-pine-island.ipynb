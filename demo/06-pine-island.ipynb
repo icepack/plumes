{
 "cells": [
  {
   "cell_type": "markdown",
   "metadata": {},
   "source": [
    "### Geometry\n",
    "\n",
    "First, we'll load in a GeoJSON file describing the outline of Pine Island Ice Shelf.\n",
    "This outline was hand-digitized from the various input data sets we'll use in a GIS."
   ]
  },
  {
   "cell_type": "code",
   "execution_count": null,
   "metadata": {},
   "outputs": [],
   "source": [
    "import geojson\n",
    "outline_filename = 'pine-island-shelf.geojson'\n",
    "with open(outline_filename, 'r') as outline_file:\n",
    "    outline = geojson.load(outline_file)"
   ]
  },
  {
   "cell_type": "markdown",
   "metadata": {},
   "source": [
    "Next we'll use a few utility functions from icepack to turn this outline into the input format for the mesh generator [gmsh](https://www.gmsh.info).\n",
    "We can then generate an unstructured triangular mesh of the domain and load in that mesh."
   ]
  },
  {
   "cell_type": "code",
   "execution_count": null,
   "metadata": {},
   "outputs": [],
   "source": [
    "import icepack\n",
    "geometry = icepack.meshing.collection_to_geo(outline)\n",
    "with open('pine-island-shelf.geo', 'w') as geo_file:\n",
    "    geo_file.write(geometry.get_code())"
   ]
  },
  {
   "cell_type": "code",
   "execution_count": null,
   "metadata": {},
   "outputs": [],
   "source": [
    "!gmsh -2 -format msh2 -v 2 -o pine-island-shelf.msh pine-island-shelf.geo"
   ]
  },
  {
   "cell_type": "code",
   "execution_count": null,
   "metadata": {},
   "outputs": [],
   "source": [
    "import firedrake\n",
    "mesh = firedrake.Mesh('pine-island-shelf.msh')"
   ]
  },
  {
   "cell_type": "markdown",
   "metadata": {},
   "source": [
    "The colors correspond to the numeric IDs of each boundary segment (note the legend in the corner).\n",
    "We need a way of identifying different boundary conditions in the ice shelf flow model in order to determine where ice is flowing in from and where the terminus is."
   ]
  },
  {
   "cell_type": "code",
   "execution_count": null,
   "metadata": {},
   "outputs": [],
   "source": [
    "import icepack.plot\n",
    "fig, axes = icepack.plot.subplots()\n",
    "icepack.plot.triplot(mesh, axes=axes)\n",
    "axes.legend();"
   ]
  },
  {
   "cell_type": "markdown",
   "metadata": {},
   "source": [
    "### Input data\n",
    "\n",
    "Next we have to load in some observational data for the ice shelf draft.\n",
    "The demos for icepack include a module to fetch the most common observational data sets.\n",
    "We'll use BedMachine Antarctica because they've already done the hard work of things like firn and geoid corrections to ice shelf thickness.\n",
    "This routine will download the BedMachine dataset from NSIDC.\n",
    "If this is your first time running this notebook, you'll be prompted for your EarthData username and password."
   ]
  },
  {
   "cell_type": "code",
   "execution_count": null,
   "metadata": {},
   "outputs": [],
   "source": [
    "bedmachine_filename = icepack.datasets.fetch_bedmachine_antarctica()"
   ]
  },
  {
   "cell_type": "markdown",
   "metadata": {},
   "source": [
    "To get the ice shelf draft, we'll first get the surface elevation and thickness of the ice shelf."
   ]
  },
  {
   "cell_type": "code",
   "execution_count": null,
   "metadata": {},
   "outputs": [],
   "source": [
    "import rasterio\n",
    "surface_grid = rasterio.open('netcdf:' + bedmachine_filename + ':surface', 'r')\n",
    "thickness_grid = rasterio.open('netcdf:' + bedmachine_filename + ':thickness', 'r')"
   ]
  },
  {
   "cell_type": "markdown",
   "metadata": {},
   "source": [
    "We'll represent the ice shelf draft using continuous, piecewise quadratic basis functions."
   ]
  },
  {
   "cell_type": "code",
   "execution_count": null,
   "metadata": {},
   "outputs": [],
   "source": [
    "Z = firedrake.FunctionSpace(mesh, family='CG', degree=2)"
   ]
  },
  {
   "cell_type": "markdown",
   "metadata": {},
   "source": [
    "Next we'll interpolate the gridded data to our finite element space."
   ]
  },
  {
   "cell_type": "code",
   "execution_count": null,
   "metadata": {},
   "outputs": [],
   "source": [
    "surface = icepack.interpolate(surface_grid, Z)\n",
    "thickness = icepack.interpolate(thickness_grid, Z)"
   ]
  },
  {
   "cell_type": "markdown",
   "metadata": {},
   "source": [
    "Finally we can get the ice shelf draft as the difference of the surface and the thickness."
   ]
  },
  {
   "cell_type": "code",
   "execution_count": null,
   "metadata": {},
   "outputs": [],
   "source": [
    "z_obs = firedrake.interpolate(surface - thickness, Z)"
   ]
  },
  {
   "cell_type": "code",
   "execution_count": null,
   "metadata": {},
   "outputs": [],
   "source": [
    "fig, axes = icepack.plot.subplots()\n",
    "contours = icepack.plot.tricontourf(z_obs, 40, axes=axes)\n",
    "fig.colorbar(contours);"
   ]
  },
  {
   "cell_type": "markdown",
   "metadata": {},
   "source": [
    "In the interest of keeping our numerical solver from losing its bloody mind, we'll smooth over the ice shelf.\n",
    "The spin-up of the plume will proceed in two stages.\n",
    "First, we'll use a very smooth ice shelf draft.\n",
    "Most of the interesting features, like sub-ice shelf channels, will have been diffused out.\n",
    "But this will make it easier to evolve the plume towards a sane steady state than if we had used the real data as-is.\n",
    "In the next phase, we'll slowly morph the ice shelf draft towards a value with a much lower smoothing length in order to recapture more of the features of the real data."
   ]
  },
  {
   "cell_type": "code",
   "execution_count": null,
   "metadata": {},
   "outputs": [],
   "source": [
    "from firedrake import inner, grad, dx, ds, Constant\n",
    "z = firedrake.Function(Z)\n",
    "α = Constant(5e3)\n",
    "\n",
    "parameters = {\n",
    "    'solver_parameters': {\n",
    "        'ksp_type': 'preonly',\n",
    "        'pc_type': 'lu',\n",
    "        'pc_factor_mat_solver_type': 'mumps'\n",
    "    }\n",
    "}\n",
    "\n",
    "J = 0.5 * ((z - z_obs)**2 + α**2 * inner(grad(z), grad(z))) * dx\n",
    "F = firedrake.derivative(J, z)\n",
    "firedrake.solve(F == 0, z, **parameters)"
   ]
  },
  {
   "cell_type": "markdown",
   "metadata": {},
   "source": [
    "This is enough smoothing to keep the plume solver from exploding, but not so much as to wipe out features like sub-ice shelf channels."
   ]
  },
  {
   "cell_type": "code",
   "execution_count": null,
   "metadata": {},
   "outputs": [],
   "source": [
    "fig, axes = icepack.plot.subplots()\n",
    "contours = icepack.plot.tricontourf(z, 40, axes=axes)\n",
    "fig.colorbar(contours);"
   ]
  },
  {
   "cell_type": "markdown",
   "metadata": {},
   "source": [
    "Some amount of smoothing is also usually necessary for the ice flow model too.\n",
    "Newer remote sensing platforms like ICESat-2 are sophisticated enough to resolve individual crevasses, introducing sharp breaks in the ice thickness.\n",
    "The gradient of the ice thickness is one of the sources of the ice flow model, so these features, which are of too small a scale to really influence the flow by themselves, end up breaking the numerics."
   ]
  },
  {
   "cell_type": "markdown",
   "metadata": {},
   "source": [
    "### Inflow data\n",
    "\n",
    "Christine Dow at the University of Waterloo has graciously provided us with some output from a hydrology model of the water flux out of the grounding line and into the plume.\n",
    "The total water influx from the model across all channels is 35.64 m${}^3$/s.\n",
    "The maximum influx of any one channel is 30.46 m${}^3$/s with a velocity of 0.86 m/s, so if you figure that the channel is shaped liked a half-circle, this shakes out to a radius of 4.75m.\n",
    "The largest channel is centered at the point (x, y) = -1589${}^3$km, -255.5${}^3$km in this coordinate system, which is right near the deepest point of the grounding line.\n",
    "There are two smaller channels about 6km away to either side.\n",
    "\n",
    "We won't try to simulate these basal water channels as the point-like sources that they are because this is too hard.\n",
    "Instead, we'll use an inflow plume velocity and thickness that reproduce the net flux from the hydrology model, but with a profile that's smoothed out over a few grid cells."
   ]
  },
  {
   "cell_type": "code",
   "execution_count": null,
   "metadata": {},
   "outputs": [],
   "source": [
    "max_inflow_point = Constant((-1589e3, -255.5e3))\n",
    "radius = Constant(10e3)\n",
    "grounding_line_flux = Constant(35.64)"
   ]
  },
  {
   "cell_type": "code",
   "execution_count": null,
   "metadata": {},
   "outputs": [],
   "source": [
    "def sech(z):\n",
    "    return 2 / (firedrake.exp(z) + firedrake.exp(-z))\n",
    "\n",
    "n = firedrake.FacetNormal(mesh)\n",
    "x = firedrake.SpatialCoordinate(mesh)\n",
    "δx = x - max_inflow_point\n",
    "r = firedrake.sqrt(inner(δx, δx))\n",
    "shape = -sech(r / radius) * n\n",
    "total = firedrake.assemble(inner(shape, -n) * ds((1,)))\n",
    "q_in = Constant(grounding_line_flux / total) * shape"
   ]
  },
  {
   "cell_type": "code",
   "execution_count": null,
   "metadata": {},
   "outputs": [],
   "source": [
    "max_inflow_thickness = Constant(4.0)\n",
    "h_in = max_inflow_thickness * sech(r / radius)"
   ]
  },
  {
   "cell_type": "markdown",
   "metadata": {},
   "source": [
    "### Initial state\n",
    "\n",
    "Next, we need to come up with some vaguely sane initial state of the plume.\n",
    "The model can quickly explode if we initialize it with a weird initial state that has large transients, so we need to find something vaguely reasonable.\n",
    "Roughly speaking, the fluid velocity should align with the gradient of the ice shelf bottom."
   ]
  },
  {
   "cell_type": "code",
   "execution_count": null,
   "metadata": {},
   "outputs": [],
   "source": [
    "W = firedrake.VectorFunctionSpace(mesh, family='CG', degree=2)\n",
    "grad_z = firedrake.project(grad(z), W)"
   ]
  },
  {
   "cell_type": "markdown",
   "metadata": {},
   "source": [
    "To make the initial velocity field, we'll solve an optimization problem.\n",
    "The objective functional will favor a velocity field that is:\n",
    "\n",
    "1. smoothly varying\n",
    "2. non-divergent\n",
    "3. aligns with the ice shelf draft gradient whenever it points into the domain\n",
    "\n",
    "Putting all of these criteria together, we get the objective \n",
    "\n",
    "$$J = \\frac{\\alpha^2}{2}\\int_\\Omega\\left\\{|\\nabla u|^2 + (\\nabla\\cdot u)^2\\right\\}dx + \\frac{\\alpha}{2}\\int_\\Gamma |u - v|^2ds$$\n",
    "\n",
    "where $\\Gamma$ is everything except the ice shelf terminus, $v$ is the inflow vector\n",
    "\n",
    "$$v = \\max\\{0, \\nu\\cdot\\nabla z_b\\}\\nu,$$\n",
    "\n",
    "and $\\nu$ the unit inward-pointing normal to the domain."
   ]
  },
  {
   "cell_type": "code",
   "execution_count": null,
   "metadata": {},
   "outputs": [],
   "source": [
    "from firedrake import div\n",
    "v = firedrake.Function(W)\n",
    "\n",
    "n = -firedrake.FacetNormal(mesh)\n",
    "v_n = firedrake.max_value(inner(grad_z, n), 0) * n\n",
    "\n",
    "terminus_ids = (2, 3, 4)\n",
    "J = (\n",
    "    0.5 * α**2 * (inner(grad(v), grad(v)) + div(v)**2) * dx +\n",
    "    0.5 * α * inner(v - v_n, v - v_n) * ds(terminus_ids)\n",
    ")\n",
    "F = firedrake.derivative(J, v)\n",
    "firedrake.solve(F == 0, v, **parameters)"
   ]
  },
  {
   "cell_type": "markdown",
   "metadata": {},
   "source": [
    "As a sanity check we can make a stream plot of the initial value of the plume velocity.\n",
    "The streamlines get thicker towards the end, so this vector field actually is going from the inflow boundary to the terminus as we had hoped."
   ]
  },
  {
   "cell_type": "code",
   "execution_count": null,
   "metadata": {},
   "outputs": [],
   "source": [
    "fig, axes = icepack.plot.subplots()\n",
    "firedrake.triplot(\n",
    "    mesh, axes=axes,\n",
    "    boundary_kw={'color': 'k'},\n",
    "    interior_kw={'linewidth': 0.05}\n",
    ")\n",
    "streamlines = firedrake.streamplot(v, resolution=2e3, seed=1, axes=axes)\n",
    "fig.colorbar(streamlines);"
   ]
  }
 ],
 "metadata": {
  "kernelspec": {
   "display_name": "firedrake",
   "language": "python",
   "name": "firedrake"
  },
  "language_info": {
   "codemirror_mode": {
    "name": "ipython",
    "version": 3
   },
   "file_extension": ".py",
   "mimetype": "text/x-python",
   "name": "python",
   "nbconvert_exporter": "python",
   "pygments_lexer": "ipython3",
   "version": "3.8.3"
  }
 },
 "nbformat": 4,
 "nbformat_minor": 4
}
