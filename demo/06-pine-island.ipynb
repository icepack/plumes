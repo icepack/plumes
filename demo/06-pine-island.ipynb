{
 "cells": [
  {
   "cell_type": "markdown",
   "metadata": {},
   "source": [
    "### Geometry\n",
    "\n",
    "First, we'll load in a GeoJSON file describing the outline of Pine Island Ice Shelf.\n",
    "This outline was hand-digitized from the various input data sets we'll use in a GIS."
   ]
  },
  {
   "cell_type": "code",
   "execution_count": null,
   "metadata": {},
   "outputs": [],
   "source": [
    "import geojson\n",
    "outline_filename = 'pine-island-shelf.geojson'\n",
    "with open(outline_filename, 'r') as outline_file:\n",
    "    outline = geojson.load(outline_file)"
   ]
  },
  {
   "cell_type": "markdown",
   "metadata": {},
   "source": [
    "Next we'll use a few utility functions from icepack to turn this outline into the input format for the mesh generator [gmsh](https://www.gmsh.info).\n",
    "We can then generate an unstructured triangular mesh of the domain and load in that mesh."
   ]
  },
  {
   "cell_type": "code",
   "execution_count": null,
   "metadata": {},
   "outputs": [],
   "source": [
    "import icepack\n",
    "geometry = icepack.meshing.collection_to_geo(outline)\n",
    "with open('pine-island-shelf.geo', 'w') as geo_file:\n",
    "    geo_file.write(geometry.get_code())"
   ]
  },
  {
   "cell_type": "code",
   "execution_count": null,
   "metadata": {},
   "outputs": [],
   "source": [
    "!gmsh -2 -format msh2 -v 2 -o pine-island-shelf.msh pine-island-shelf.geo"
   ]
  },
  {
   "cell_type": "code",
   "execution_count": null,
   "metadata": {},
   "outputs": [],
   "source": [
    "import firedrake\n",
    "mesh = firedrake.Mesh('pine-island-shelf.msh')"
   ]
  },
  {
   "cell_type": "markdown",
   "metadata": {},
   "source": [
    "The colors correspond to the numeric IDs of each boundary segment (note the legend in the corner).\n",
    "We need a way of identifying different boundary conditions in the ice shelf flow model in order to determine where ice is flowing in from and where the terminus is."
   ]
  },
  {
   "cell_type": "code",
   "execution_count": null,
   "metadata": {},
   "outputs": [],
   "source": [
    "import icepack.plot\n",
    "fig, axes = icepack.plot.subplots()\n",
    "icepack.plot.triplot(mesh, axes=axes, boundary_kw={'colors': ['r', 'g', 'b', 'k']})\n",
    "axes.legend();"
   ]
  },
  {
   "cell_type": "markdown",
   "metadata": {},
   "source": [
    "### Ice shelf draft\n",
    "\n",
    "Next we have to load in some observational data for the ice shelf draft.\n",
    "The demos for icepack include a module to fetch the most common observational data sets.\n",
    "We'll use BedMachine Antarctica because they've already done the hard work of things like firn and geoid corrections to ice shelf thickness.\n",
    "This routine will download the BedMachine dataset from NSIDC.\n",
    "If this is your first time running this notebook, you'll be prompted for your EarthData username and password."
   ]
  },
  {
   "cell_type": "code",
   "execution_count": null,
   "metadata": {},
   "outputs": [],
   "source": [
    "bedmachine_filename = icepack.datasets.fetch_bedmachine_antarctica()"
   ]
  },
  {
   "cell_type": "markdown",
   "metadata": {},
   "source": [
    "To get the ice shelf draft, we'll first get the surface elevation and thickness of the ice shelf."
   ]
  },
  {
   "cell_type": "code",
   "execution_count": null,
   "metadata": {},
   "outputs": [],
   "source": [
    "import rasterio\n",
    "surface_grid = rasterio.open('netcdf:' + bedmachine_filename + ':surface', 'r')\n",
    "thickness_grid = rasterio.open('netcdf:' + bedmachine_filename + ':thickness', 'r')"
   ]
  },
  {
   "cell_type": "markdown",
   "metadata": {},
   "source": [
    "We'll represent the ice shelf draft using continuous, piecewise quadratic basis functions."
   ]
  },
  {
   "cell_type": "code",
   "execution_count": null,
   "metadata": {},
   "outputs": [],
   "source": [
    "Z = firedrake.FunctionSpace(mesh, family='CG', degree=2)"
   ]
  },
  {
   "cell_type": "markdown",
   "metadata": {},
   "source": [
    "Next we'll interpolate the gridded data to our finite element space."
   ]
  },
  {
   "cell_type": "code",
   "execution_count": null,
   "metadata": {},
   "outputs": [],
   "source": [
    "surface = icepack.interpolate(surface_grid, Z)\n",
    "thickness = icepack.interpolate(thickness_grid, Z)"
   ]
  },
  {
   "cell_type": "markdown",
   "metadata": {},
   "source": [
    "Finally we can get the ice shelf draft as the difference of the surface and the thickness."
   ]
  },
  {
   "cell_type": "code",
   "execution_count": null,
   "metadata": {},
   "outputs": [],
   "source": [
    "z_obs = firedrake.interpolate(surface - thickness, Z)"
   ]
  },
  {
   "cell_type": "code",
   "execution_count": null,
   "metadata": {},
   "outputs": [],
   "source": [
    "fig, axes = icepack.plot.subplots()\n",
    "contours = icepack.plot.tricontourf(z_obs, 40, axes=axes)\n",
    "fig.colorbar(contours);"
   ]
  },
  {
   "cell_type": "markdown",
   "metadata": {},
   "source": [
    "In the interest of keeping our numerical solver from losing its bloody mind, we'll smooth over the ice shelf.\n",
    "The spin-up of the plume will proceed in two stages.\n",
    "First, we'll use a very smooth ice shelf draft.\n",
    "Most of the interesting features, like sub-ice shelf channels, will have been diffused out.\n",
    "But this will make it easier to evolve the plume towards a sane steady state than if we had used the real data as-is.\n",
    "In the next phase, we'll slowly morph the ice shelf draft towards a value with a much lower smoothing length in order to recapture more of the features of the real data."
   ]
  },
  {
   "cell_type": "code",
   "execution_count": null,
   "metadata": {},
   "outputs": [],
   "source": [
    "from firedrake import inner, grad, dx, ds, Constant\n",
    "z = firedrake.Function(Z)\n",
    "α = Constant(8e3)\n",
    "\n",
    "parameters = {\n",
    "    'solver_parameters': {\n",
    "        'ksp_type': 'preonly',\n",
    "        'pc_type': 'lu',\n",
    "        'pc_factor_mat_solver_type': 'mumps'\n",
    "    }\n",
    "}\n",
    "\n",
    "J = 0.5 * ((z - z_obs)**2 + α**2 * inner(grad(z), grad(z))) * dx\n",
    "F = firedrake.derivative(J, z)\n",
    "firedrake.solve(F == 0, z, **parameters)"
   ]
  },
  {
   "cell_type": "markdown",
   "metadata": {},
   "source": [
    "This is enough smoothing to keep the plume solver from exploding, but not so much as to wipe out features like sub-ice shelf channels."
   ]
  },
  {
   "cell_type": "code",
   "execution_count": null,
   "metadata": {},
   "outputs": [],
   "source": [
    "fig, axes = icepack.plot.subplots()\n",
    "contours = icepack.plot.tricontourf(z, 40, axes=axes)\n",
    "fig.colorbar(contours);"
   ]
  },
  {
   "cell_type": "markdown",
   "metadata": {},
   "source": [
    "Some amount of smoothing is also usually necessary for the ice flow model too.\n",
    "Newer remote sensing platforms like ICESat-2 are sophisticated enough to resolve individual crevasses, introducing sharp breaks in the ice thickness.\n",
    "The gradient of the ice thickness is one of the sources of the ice flow model, so these features, which are of too small a scale to really influence the flow by themselves, end up breaking the numerics."
   ]
  },
  {
   "cell_type": "markdown",
   "metadata": {},
   "source": [
    "### Background ocean\n",
    "\n",
    "Next we have to decide on what the salinity and temperature of the background ocean will be.\n",
    "More than any other embayment in Antartica, the Amundsen Sea is subject to intrusions of Circumpolar Deep Water, which is very warm and saline.\n",
    "We'll take the background ocean to have a temperature of 1${}^\\circ$C and salinity of 34.73 PSU."
   ]
  },
  {
   "cell_type": "code",
   "execution_count": null,
   "metadata": {},
   "outputs": [],
   "source": [
    "T_a = Constant(1.0)\n",
    "s_a = Constant(34.73)"
   ]
  },
  {
   "cell_type": "markdown",
   "metadata": {},
   "source": [
    "The plume water, by contrast, will have a temperature of around -3.5${}^\\circ$C and a salinity of 0.\n",
    "The temperature and salinity of the plume control how buoyant it is over the background ocean; the plume floats above the background ocean water because it has much less salt and is thus less dense.\n",
    "The salinity of the plume will approach that of the background ocean as the plume entrains ocean water.\n",
    "The addition of fresh meltwater from the ice shelf base will partly counteract this process.\n",
    "In principle, the plume could destabilize at a point if it were to, say, obtain a salinity value close to or exceeding that of the background ocean."
   ]
  },
  {
   "cell_type": "markdown",
   "metadata": {},
   "source": [
    "### Inflow conditions\n",
    "\n",
    "Christine Dow at the University of Waterloo has graciously provided us with some output from a hydrology model of the water flux out of the grounding line and into the plume.\n",
    "The total water influx from the model across all channels is 35.64 m${}^3$/s.\n",
    "The maximum influx of any one channel is 30.46 m${}^3$/s with a velocity of 0.86 m/s, so if you figure that the channel is shaped liked a half-circle, this shakes out to a radius of 4.75m.\n",
    "The largest channel is centered at the point (x, y) = -1589${}^3$km, -255.5${}^3$km in this coordinate system, which is right near the deepest point of the grounding line.\n",
    "There are two smaller channels about 6km away to either side.\n",
    "\n",
    "We won't try to simulate these basal water channels as the point-like sources that they are because this is too hard.\n",
    "Instead, we'll use an inflow plume velocity and thickness that reproduce the net flux from the hydrology model, but with a profile that's smoothed out over a few grid cells."
   ]
  },
  {
   "cell_type": "code",
   "execution_count": null,
   "metadata": {},
   "outputs": [],
   "source": [
    "max_inflow_point = Constant((-1589e3, -255.5e3))\n",
    "radius = Constant(10e3)\n",
    "grounding_line_flux = Constant(35.64)"
   ]
  },
  {
   "cell_type": "code",
   "execution_count": null,
   "metadata": {},
   "outputs": [],
   "source": [
    "def sech(z):\n",
    "    return 2 / (firedrake.exp(z) + firedrake.exp(-z))\n",
    "\n",
    "n = firedrake.FacetNormal(mesh)\n",
    "x = firedrake.SpatialCoordinate(mesh)\n",
    "δx = x - max_inflow_point\n",
    "r = firedrake.sqrt(inner(δx, δx))\n",
    "shape = -sech(r / radius) * n\n",
    "total = firedrake.assemble(inner(shape, -n) * ds((3,)))\n",
    "q_in = Constant(grounding_line_flux / total) * shape"
   ]
  },
  {
   "cell_type": "markdown",
   "metadata": {},
   "source": [
    "We'll make the inflow thickness have roughly the same profile."
   ]
  },
  {
   "cell_type": "code",
   "execution_count": null,
   "metadata": {},
   "outputs": [],
   "source": [
    "max_inflow_thickness = Constant(4.0)\n",
    "D_in = max_inflow_thickness * sech(r / radius)"
   ]
  },
  {
   "cell_type": "markdown",
   "metadata": {},
   "source": [
    "And finally the influx of thermal energy and salt will correspond to a temperature and salinity of -3.5${}^\\circ$C and 0 PSU respectively."
   ]
  },
  {
   "cell_type": "code",
   "execution_count": null,
   "metadata": {},
   "outputs": [],
   "source": [
    "T_in = firedrake.Constant(-3.5)\n",
    "s_in = firedrake.Constant(0.0)\n",
    "\n",
    "E_in = D_in * T_in\n",
    "S_in = D_in * s_in"
   ]
  },
  {
   "cell_type": "markdown",
   "metadata": {},
   "source": [
    "### Initial state\n",
    "\n",
    "Next, we need to come up with some vaguely sane initial state of the plume.\n",
    "The model can quickly explode if we initialize it with a weird initial state that has large transients, so we need to find something vaguely reasonable.\n",
    "Roughly speaking, the fluid velocity should align with the gradient of the ice shelf bottom."
   ]
  },
  {
   "cell_type": "code",
   "execution_count": null,
   "metadata": {},
   "outputs": [],
   "source": [
    "W = firedrake.VectorFunctionSpace(mesh, family='CG', degree=2)\n",
    "grad_z = firedrake.project(grad(z), W)"
   ]
  },
  {
   "cell_type": "markdown",
   "metadata": {},
   "source": [
    "To make the initial velocity field, we'll solve an optimization problem.\n",
    "The objective functional will favor a velocity field that is:\n",
    "\n",
    "1. smoothly varying\n",
    "2. non-divergent\n",
    "3. aligns with the ice shelf draft gradient whenever it points into the domain\n",
    "\n",
    "Putting all of these criteria together, we get the objective \n",
    "\n",
    "$$J = \\frac{\\alpha^2}{2}\\int_\\Omega\\left\\{|\\nabla w|^2 + \\gamma^2(\\nabla\\cdot w)^2\\right\\}dx + \\frac{\\alpha}{2}\\int_\\Gamma |w - v|^2ds$$\n",
    "\n",
    "where $\\Gamma$ is everything except the ice shelf terminus, $v$ is the inflow vector\n",
    "\n",
    "$$v = \\max\\{0, \\nu\\cdot\\nabla z_b\\}\\nu,$$\n",
    "\n",
    "and $\\nu$ the unit inward-pointing normal to the domain."
   ]
  },
  {
   "cell_type": "code",
   "execution_count": null,
   "metadata": {},
   "outputs": [],
   "source": [
    "from firedrake import div\n",
    "w = firedrake.Function(W)\n",
    "γ = firedrake.Constant(10)\n",
    "\n",
    "J = (\n",
    "    0.5 * α**2 * (inner(grad(w), grad(w)) + γ**2 * div(w)**2) * dx +\n",
    "    0.5 * α * inner(w - q_in, w - q_in) * ds((2, 3, 4)) -\n",
    "    inner(w, grad_z) * dx\n",
    ")\n",
    "F = firedrake.derivative(J, w)\n",
    "firedrake.solve(F == 0, w, **parameters)"
   ]
  },
  {
   "cell_type": "markdown",
   "metadata": {},
   "source": [
    "As a sanity check we can make a stream plot of the initial value of the plume velocity.\n",
    "The streamlines get thicker towards the end, so this vector field actually is going from the inflow boundary to the terminus as we had hoped."
   ]
  },
  {
   "cell_type": "code",
   "execution_count": null,
   "metadata": {},
   "outputs": [],
   "source": [
    "fig, axes = icepack.plot.subplots()\n",
    "firedrake.triplot(\n",
    "    mesh, axes=axes,\n",
    "    boundary_kw={'color': 'k'},\n",
    "    interior_kw={'linewidth': 0.05}\n",
    ")\n",
    "streamlines = firedrake.streamplot(w, resolution=2e3, seed=1, axes=axes)\n",
    "fig.colorbar(streamlines);"
   ]
  },
  {
   "cell_type": "markdown",
   "metadata": {},
   "source": [
    "Now we'll create function spaces where the solutions will live.\n",
    "Once again we'll use DG(1) basis functions for the scalar fields and BDFM(2) for the momentum.\n",
    "Then we'll project the vector field $w$ into the momentum space."
   ]
  },
  {
   "cell_type": "code",
   "execution_count": null,
   "metadata": {},
   "outputs": [],
   "source": [
    "scalar_element = firedrake.FiniteElement('DG', 'triangle', 1)\n",
    "vector_element = firedrake.FiniteElement('BDFM', 'triangle', 2)\n",
    "Q = firedrake.FunctionSpace(mesh, scalar_element)\n",
    "V = firedrake.FunctionSpace(mesh, vector_element)\n",
    "\n",
    "q = firedrake.project(w, V)"
   ]
  },
  {
   "cell_type": "markdown",
   "metadata": {},
   "source": [
    "Once again we'll solve an optimization problem to come up with a vaguely sensible value of the initial plume thickness.\n",
    "The objective functional favors smooth solutions that match the inflow thickness."
   ]
  },
  {
   "cell_type": "code",
   "execution_count": null,
   "metadata": {},
   "outputs": [],
   "source": [
    "from firedrake import dS\n",
    "D = firedrake.Function(Q)\n",
    "ℓ = firedrake.CellDiameter(mesh)\n",
    "J = 0.5 * (\n",
    "    α**2 * inner(grad(D), grad(D)) * dx +\n",
    "    α**2 / (ℓ('+') + l('-')) * (D('+') - D('-'))**2 * dS +\n",
    "    α * (D - D_in)**2 * ds((3,))\n",
    ")\n",
    "\n",
    "F = firedrake.derivative(J, D)\n",
    "firedrake.solve(F == 0, D, **parameters)"
   ]
  },
  {
   "cell_type": "code",
   "execution_count": null,
   "metadata": {},
   "outputs": [],
   "source": [
    "fig, axes = icepack.plot.subplots()\n",
    "colors = icepack.plot.tripcolor(D, axes=axes)\n",
    "fig.colorbar(colors);"
   ]
  },
  {
   "cell_type": "markdown",
   "metadata": {},
   "source": [
    "We can be much more blunt about the initial values of the salinity and temperature of the plume -- the meltwater has effectively no salt content at all and is at the pressure melting point of that ice.\n",
    "But remember that we're describing the system in terms of extensive quantities like momentum, thermal energy, and total salt mass, rather than intensive quantities like velocity, temperature, and salinity."
   ]
  },
  {
   "cell_type": "code",
   "execution_count": null,
   "metadata": {},
   "outputs": [],
   "source": [
    "E = firedrake.project(D * T_in, Q)\n",
    "S = firedrake.project(D * s_in, Q)"
   ]
  },
  {
   "cell_type": "markdown",
   "metadata": {},
   "source": [
    "Now we'll create a big mixed function space to represent the entire plume state and pack all of our initial data into a mixed function.\n",
    "The ordering of the fields in the mixed function is thickness, momentum, energy, salt."
   ]
  },
  {
   "cell_type": "code",
   "execution_count": null,
   "metadata": {},
   "outputs": [],
   "source": [
    "Z = Q * V * Q * Q\n",
    "fields = firedrake.Function(Z)\n",
    "fields.sub(0).assign(D)\n",
    "fields.sub(1).assign(q)\n",
    "fields.sub(2).assign(E)\n",
    "fields.sub(3).assign(S);"
   ]
  },
  {
   "cell_type": "markdown",
   "metadata": {},
   "source": [
    "### Will it go?!\n",
    "\n",
    "Now we're ready to actually start running things.\n",
    "First, we'll pack all of the data about the background ocean and the boundary conditions into a dictionary, since we'll be passing these to many different functions."
   ]
  },
  {
   "cell_type": "code",
   "execution_count": null,
   "metadata": {},
   "outputs": [],
   "source": [
    "inputs = {\n",
    "    'temperature_ambient': T_a,\n",
    "    'salinity_ambient': s_a,\n",
    "    'ice_shelf_draft': z,\n",
    "    'thickness_in': D_in,\n",
    "    'momentum_in': q_in,\n",
    "    'energy_in': E_in,\n",
    "    'salt_in': S_in,\n",
    "    'inflow_ids': (3,),\n",
    "    'outflow_ids': (1,),\n",
    "}"
   ]
  },
  {
   "cell_type": "markdown",
   "metadata": {},
   "source": [
    "Next, we need to create a function that calculates the residual of the model physics."
   ]
  },
  {
   "cell_type": "code",
   "execution_count": null,
   "metadata": {},
   "outputs": [],
   "source": [
    "from plumes.models import plume\n",
    "class SimplePhysics(plume.PlumePhysics):\n",
    "    def density_contrast(self, fields, **inputs):\n",
    "        return Constant(0.0015)\n",
    "    \n",
    "physics = SimplePhysics()\n",
    "\n",
    "def equation(fields):\n",
    "    transport = plume.make_transport_equation(physics, **inputs)\n",
    "    sources = plume.make_source_equation(physics, **inputs)\n",
    "    sinks = plume.make_sink_equation(physics, **inputs)\n",
    "    \n",
    "    return transport(fields) + sources(fields) + sinks(fields)"
   ]
  },
  {
   "cell_type": "markdown",
   "metadata": {},
   "source": [
    "To guarantee stability of the discrete system, we'll use a slope limiter.\n",
    "Firedrake includes support for Kuzmin's vertex-based P1 limiter."
   ]
  },
  {
   "cell_type": "code",
   "execution_count": null,
   "metadata": {},
   "outputs": [],
   "source": [
    "limiter = firedrake.VertexBasedLimiter(Q)"
   ]
  },
  {
   "cell_type": "markdown",
   "metadata": {},
   "source": [
    "A bit of helper code that will prevent warnings and give us a clue of what the solution is doing."
   ]
  },
  {
   "cell_type": "code",
   "execution_count": null,
   "metadata": {},
   "outputs": [],
   "source": [
    "parameters = {\n",
    "    'form_compiler_parameters': {\n",
    "        'quadrature_degree': 4\n",
    "    }\n",
    "}\n",
    "\n",
    "def field_range(z):\n",
    "    ζ = z.dat.data_ro[:]\n",
    "    return ζ.min(), ζ.max()"
   ]
  },
  {
   "cell_type": "markdown",
   "metadata": {},
   "source": [
    "We'll run the simulation in several phases, each of which will require a different timestep, so we'll wrap it up into one big function."
   ]
  },
  {
   "cell_type": "code",
   "execution_count": null,
   "metadata": {},
   "outputs": [],
   "source": [
    "from firedrake import max_value, min_value, sqrt\n",
    "from plumes import numerics\n",
    "def run_model(fields, final_time, dt, frac):\n",
    "    num_steps = int(final_time / dt)\n",
    "    zs = []\n",
    "    integrator = numerics.Rosenbrock(equation, fields, **parameters)\n",
    "    \n",
    "    for step in range(num_steps):\n",
    "        try:\n",
    "            integrator.step(dt)\n",
    "        except:\n",
    "            return zs\n",
    "\n",
    "        D, q, E, S = integrator.state.split()\n",
    "        limiter.apply(D)\n",
    "        limiter.apply(E)\n",
    "        limiter.apply(S)\n",
    "        S.interpolate(min_value(max_value(0, S), frac * D * s_a))\n",
    "        E.interpolate(max_value(D * T_in, E))\n",
    "        zs.append(integrator.state.copy(deepcopy=True))\n",
    "\n",
    "        T = firedrake.interpolate(E / D, Q)\n",
    "        s = firedrake.interpolate(S / D, Q)\n",
    "        u = firedrake.interpolate(q / D, W)\n",
    "        U = firedrake.interpolate(sqrt(inner(u, u)), Q)\n",
    "\n",
    "        Dmin, Dmax = field_range(D)\n",
    "        Tmin, Tmax = field_range(T)\n",
    "        smin, smax = field_range(s)\n",
    "        umin, umax = field_range(U)\n",
    "\n",
    "        print(\n",
    "            f'{dt * step / 60:6.1f}'\n",
    "            f' | {Dmin:5.3f}, {Dmax:5.3f}'\n",
    "            f' | {Tmin:5.3f}, {Tmax:5.3f}'\n",
    "            f' | {smin:5.3f}, {smax:5.3f}'\n",
    "            f' | {umin:5.3f}, {umax:5.3f}',\n",
    "            sep=' ',\n",
    "            flush=True\n",
    "        )\n",
    "        \n",
    "    return zs"
   ]
  },
  {
   "cell_type": "markdown",
   "metadata": {},
   "source": [
    "This function encapsulates some tedious busywork for running the simulation and saving the results to a file if it does not exist, and loading the results from that file if it does exist."
   ]
  },
  {
   "cell_type": "code",
   "execution_count": null,
   "metadata": {},
   "outputs": [],
   "source": [
    "from firedrake import DumbCheckpoint as Checkpoint\n",
    "import os\n",
    "\n",
    "def run_or_load_results(filename, fields, final_time, timestep, salt_frac):\n",
    "    filestem = os.path.splitext(filename)[0]\n",
    "    if os.path.exists(filename):\n",
    "        zs = []\n",
    "        z = firedrake.Function(Z)\n",
    "        with Checkpoint(filestem, mode=firedrake.FILE_READ) as chk:\n",
    "            steps, indices = chk.get_timesteps()\n",
    "            for step in steps:\n",
    "                chk.set_timestep(step)\n",
    "                chk.load(z, name='z')\n",
    "                zs.append(z.copy(deepcopy=True))\n",
    "    else:\n",
    "        zs = run_model(fields, final_time, timestep, salt_frac)\n",
    "        with Checkpoint(filestem, mode=firedrake.FILE_CREATE) as chk:\n",
    "            for step, z in enumerate(zs):\n",
    "                chk.set_timestep(step)\n",
    "                chk.store(z, name='z')\n",
    "                \n",
    "    return zs"
   ]
  },
  {
   "cell_type": "markdown",
   "metadata": {},
   "source": [
    "Now we'll actually run the first phase.\n",
    "This goes for about 7 hours of physical time before weird things start to happen that necessitate much smaller timesteps in the second phase."
   ]
  },
  {
   "cell_type": "code",
   "execution_count": null,
   "metadata": {},
   "outputs": [],
   "source": [
    "frac = Constant(0.25)\n",
    "dt = 60.0\n",
    "final_time = 7 * 60 * 60.0\n",
    "zs = run_or_load_results('pine-island-phase1.h5', fields, final_time, dt, frac)"
   ]
  },
  {
   "cell_type": "markdown",
   "metadata": {},
   "source": [
    "And some silly helper code to make animations."
   ]
  },
  {
   "cell_type": "code",
   "execution_count": null,
   "metadata": {},
   "outputs": [],
   "source": [
    "def make_animation(zs, Dmin, Dmax, umin, umax, fps):\n",
    "    fig, axes = icepack.plot.subplots(ncols=2, sharex=True, sharey=True)\n",
    "    for ax in axes:\n",
    "        ax.get_xaxis().set_visible(False)\n",
    "        ax.get_yaxis().set_visible(False)\n",
    "\n",
    "    D, q, E, S = zs[-1].split()\n",
    "    U = firedrake.project(sqrt(inner(q / D, q / D)), Q)\n",
    "    colors_U = firedrake.tripcolor(U, num_sample_points=1, vmin=umin, vmax=umax, axes=axes[0])\n",
    "    colors_D = firedrake.tripcolor(D, num_sample_points=1, vmin=Dmin, vmax=Dmax, axes=axes[1])\n",
    "    \n",
    "    axes[0].set_title('Speed')\n",
    "    axes[1].set_title('Thickness')\n",
    "\n",
    "    from matplotlib.animation import FuncAnimation\n",
    "    def animate(z):\n",
    "        D, q, E, S = z.split()\n",
    "        U.project(sqrt(inner(q / D, q / D)))\n",
    "        colors_U.set_array(U.dat.data_ro[:])\n",
    "        colors_D.set_array(D.dat.data_ro[:])\n",
    "\n",
    "    interval = 1e3 / fps\n",
    "    return FuncAnimation(fig, animate, frames=zs, interval=interval)"
   ]
  },
  {
   "cell_type": "code",
   "execution_count": null,
   "metadata": {},
   "outputs": [],
   "source": [
    "%%capture\n",
    "animation = make_animation(zs, Dmin=0.0, Dmax=32.0, umin=0.0, umax=2.0, fps=30)"
   ]
  },
  {
   "cell_type": "code",
   "execution_count": null,
   "metadata": {},
   "outputs": [],
   "source": [
    "from IPython.display import HTML\n",
    "HTML(animation.to_html5_video())"
   ]
  },
  {
   "cell_type": "markdown",
   "metadata": {},
   "source": [
    "For the second phase, we need to use a much smaller timestep."
   ]
  },
  {
   "cell_type": "code",
   "execution_count": null,
   "metadata": {},
   "outputs": [],
   "source": [
    "frac = Constant(0.25)\n",
    "dt = 4.0\n",
    "final_time = 60 * 60.0\n",
    "zs = run_or_load_results('pine-island-phase2.h5', zs[-1], final_time, dt, frac)"
   ]
  },
  {
   "cell_type": "code",
   "execution_count": null,
   "metadata": {},
   "outputs": [],
   "source": [
    "%%capture\n",
    "animation = make_animation(zs, Dmin=0.0, Dmax=32.0, umin=0.0, umax=2.0, fps=30)"
   ]
  },
  {
   "cell_type": "code",
   "execution_count": null,
   "metadata": {},
   "outputs": [],
   "source": [
    "HTML(animation.to_html5_video())"
   ]
  },
  {
   "cell_type": "code",
   "execution_count": null,
   "metadata": {},
   "outputs": [],
   "source": [
    "frac = Constant(0.25)\n",
    "dt = 2.0\n",
    "final_time = 60 * 60.0\n",
    "zs = run_or_load_results('pine-island-phase3.h5', zs[-1], final_time, dt, frac)"
   ]
  },
  {
   "cell_type": "code",
   "execution_count": null,
   "metadata": {},
   "outputs": [],
   "source": [
    "%%capture\n",
    "animation = make_animation(zs, Dmin=0.0, Dmax=32.0, umin=0.0, umax=2.0, fps=60)"
   ]
  },
  {
   "cell_type": "code",
   "execution_count": null,
   "metadata": {},
   "outputs": [],
   "source": [
    "HTML(animation.to_html5_video())"
   ]
  },
  {
   "cell_type": "code",
   "execution_count": null,
   "metadata": {},
   "outputs": [],
   "source": [
    "frac = Constant(0.25)\n",
    "dt = 2.0\n",
    "final_time = 30 * 60.0\n",
    "zs = run_or_load_results('pine-island-phase4.h5', zs[-1], final_time, dt, frac)"
   ]
  },
  {
   "cell_type": "code",
   "execution_count": null,
   "metadata": {},
   "outputs": [],
   "source": [
    "%%capture\n",
    "animation = make_animation(zs, Dmin=0.0, Dmax=32.0, umin=0.0, umax=2.0, fps=30)"
   ]
  },
  {
   "cell_type": "code",
   "execution_count": null,
   "metadata": {},
   "outputs": [],
   "source": [
    "HTML(animation.to_html5_video())"
   ]
  }
 ],
 "metadata": {
  "kernelspec": {
   "display_name": "firedrake",
   "language": "python",
   "name": "firedrake"
  },
  "language_info": {
   "codemirror_mode": {
    "name": "ipython",
    "version": 3
   },
   "file_extension": ".py",
   "mimetype": "text/x-python",
   "name": "python",
   "nbconvert_exporter": "python",
   "pygments_lexer": "ipython3",
   "version": "3.8.3"
  }
 },
 "nbformat": 4,
 "nbformat_minor": 4
}
