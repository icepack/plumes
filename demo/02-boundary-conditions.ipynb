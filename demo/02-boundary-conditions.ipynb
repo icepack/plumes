{
 "cells": [
  {
   "cell_type": "markdown",
   "metadata": {},
   "source": [
    "# Boundary conditions\n",
    "\n",
    "In the previous demo, we showed how using better spatial and temporal discretizations gives more physically realistic simulation results.\n",
    "The geometry that we used -- a periodic rectangle -- was chosen to be as simple as possible so that we could focus only on certain features of the problem.\n",
    "For realistic simulations we'll also need to add boundary conditions and in this demo we'll show how.\n",
    "Correctly implementing and apply boundary conditions is, in our experience, the most common failure mode in scientific computing.\n",
    "\n",
    "We'll use an ordinary rectangle mesh instead of a periodic one this time.\n",
    "This is really the only difference between the previous notebook and the current one."
   ]
  },
  {
   "cell_type": "code",
   "execution_count": null,
   "metadata": {},
   "outputs": [],
   "source": [
    "import firedrake\n",
    "nx, ny = 24, 24\n",
    "Lx, Ly = 20., 20.\n",
    "mesh = firedrake.RectangleMesh(nx, ny, Lx, Ly, diagonal='crossed')"
   ]
  },
  {
   "cell_type": "markdown",
   "metadata": {},
   "source": [
    "The input data for the simulation will be just like the previous demo."
   ]
  },
  {
   "cell_type": "code",
   "execution_count": null,
   "metadata": {},
   "outputs": [],
   "source": [
    "from firedrake import inner, max_value, Constant\n",
    "x = firedrake.SpatialCoordinate(mesh)\n",
    "lx, ly = 6.0, 5.0\n",
    "y = Constant((lx, lx))\n",
    "r = Constant(2.5)\n",
    "\n",
    "H = Constant(1.0)\n",
    "δh = Constant(0.1)\n",
    "h_expr = H + δh * max_value(0, 1 - inner(x - y, x - y) / r**2)"
   ]
  },
  {
   "cell_type": "code",
   "execution_count": null,
   "metadata": {},
   "outputs": [],
   "source": [
    "y = Constant((Lx - lx, Ly - lx))\n",
    "δb = Constant(1/4)\n",
    "b = δb * max_value(0, 1 - inner(x - y, x - y) / r**2)"
   ]
  },
  {
   "cell_type": "markdown",
   "metadata": {},
   "source": [
    "And we'll use the best discretization from the previous demo, a DG(1) element for the thickness and a BDFM(2) element for the momentum."
   ]
  },
  {
   "cell_type": "code",
   "execution_count": null,
   "metadata": {},
   "outputs": [],
   "source": [
    "degree = 1\n",
    "Q = firedrake.FunctionSpace(mesh, family='DG', degree=degree)\n",
    "V = firedrake.FunctionSpace(mesh, family='BDFM', degree=degree + 1)\n",
    "\n",
    "Z = Q * V\n",
    "z_0 = firedrake.Function(Z)\n",
    "\n",
    "h_0, q_0 = z_0.split()\n",
    "h_0.project(h_expr - b);"
   ]
  },
  {
   "cell_type": "code",
   "execution_count": null,
   "metadata": {},
   "outputs": [],
   "source": [
    "import numpy as np\n",
    "from plumes.coefficients import gravity\n",
    "C = np.sqrt(gravity * (float(H) + float(δh)))\n",
    "δx = mesh.cell_sizes.dat.data_ro[:].min()\n",
    "timestep = (δx / 4) / C / (2 * degree + 1)\n",
    "\n",
    "final_time = 4 * Lx / C\n",
    "num_steps = int(final_time / timestep)\n",
    "dt = final_time / num_steps\n",
    "\n",
    "output_time = 1 / 30\n",
    "output_freq = max(int(output_time / dt), 1)"
   ]
  },
  {
   "cell_type": "markdown",
   "metadata": {},
   "source": [
    "If we want rigid walls around the boundary of the domain, we don't have to do anything at all!\n",
    "You can pass inflow and outflow IDs to `shallow_water.make_equation`, but if you don't this routine will assume every other ID is a rigid wall."
   ]
  },
  {
   "cell_type": "code",
   "execution_count": null,
   "metadata": {},
   "outputs": [],
   "source": [
    "from plumes import models\n",
    "g = firedrake.Constant(gravity)\n",
    "equation = models.shallow_water.make_equation(g, b)"
   ]
  },
  {
   "cell_type": "markdown",
   "metadata": {},
   "source": [
    "The remainder of the simulation and the analysis is just the same as before."
   ]
  },
  {
   "cell_type": "code",
   "execution_count": null,
   "metadata": {},
   "outputs": [],
   "source": [
    "import tqdm\n",
    "from plumes import numerics\n",
    "integrator = numerics.SSPRK34(equation, z_0, dt)\n",
    "\n",
    "hs = []\n",
    "qs = []\n",
    "\n",
    "progress_bar = tqdm.trange(num_steps)\n",
    "for step in progress_bar:\n",
    "    if step % output_freq == 0:\n",
    "        z = integrator.state\n",
    "        h, q = z.split()\n",
    "        hmin, hmax = h.dat.data_ro[:].min(), h.dat.data_ro[:].max()\n",
    "        progress_bar.set_description(f'{hmin:5.3f}, {hmax:5.3f}')\n",
    "        hs.append(h.copy(deepcopy=True))\n",
    "        qs.append(q.copy(deepcopy=True))\n",
    "    \n",
    "    integrator.step(dt)"
   ]
  },
  {
   "cell_type": "markdown",
   "metadata": {},
   "source": [
    "Once again, we can see that there's a bit of energy drift but nothing that's cause for too much alarm."
   ]
  },
  {
   "cell_type": "code",
   "execution_count": null,
   "metadata": {},
   "outputs": [],
   "source": [
    "from firedrake import assemble, dx\n",
    "energies = np.array([\n",
    "    0.5 * assemble((inner(q, q) / h + g * (h + b)) * dx)\n",
    "    for h, q in zip(hs, qs)\n",
    "])"
   ]
  },
  {
   "cell_type": "code",
   "execution_count": null,
   "metadata": {},
   "outputs": [],
   "source": [
    "import matplotlib.pyplot as plt\n",
    "fig, axes = plt.subplots()\n",
    "times = dt * output_freq * np.array(list(range(num_steps // output_freq)))\n",
    "axes.plot(times, energies)\n",
    "axes.set_xlabel('time (s)')\n",
    "axes.set_ylabel('energy');"
   ]
  },
  {
   "cell_type": "markdown",
   "metadata": {},
   "source": [
    "In the animated results, you can see waves reflecting off of the boundary rather than passing through to the other side, exactly as we expect."
   ]
  },
  {
   "cell_type": "code",
   "execution_count": null,
   "metadata": {},
   "outputs": [],
   "source": [
    "%%capture\n",
    "Q0 = firedrake.FunctionSpace(mesh, family='DG', degree=0)\n",
    "η = firedrake.project(hs[0] + b, Q0)\n",
    "\n",
    "import matplotlib.pyplot as plt\n",
    "from matplotlib.animation import FuncAnimation\n",
    "\n",
    "fig, axes = plt.subplots()\n",
    "axes.set_aspect('equal')\n",
    "axes.get_xaxis().set_visible(False)\n",
    "axes.get_yaxis().set_visible(False)\n",
    "colors = firedrake.tripcolor(\n",
    "    η, num_sample_points=1, vmin=0.95, vmax=1.05, axes=axes\n",
    ")\n",
    "fig.colorbar(colors)\n",
    "\n",
    "def animate(h):\n",
    "    η.project(h + b)\n",
    "    colors.set_array(η.dat.data_ro[:])\n",
    "\n",
    "interval = 1e3 * output_freq * dt\n",
    "animation = FuncAnimation(fig, animate, frames=hs, interval=interval)"
   ]
  },
  {
   "cell_type": "code",
   "execution_count": null,
   "metadata": {},
   "outputs": [],
   "source": [
    "from IPython.display import HTML\n",
    "HTML(animation.to_html5_video())"
   ]
  }
 ],
 "metadata": {
  "kernelspec": {
   "display_name": "firedrake",
   "language": "python",
   "name": "firedrake"
  },
  "language_info": {
   "codemirror_mode": {
    "name": "ipython",
    "version": 3
   },
   "file_extension": ".py",
   "mimetype": "text/x-python",
   "name": "python",
   "nbconvert_exporter": "python",
   "pygments_lexer": "ipython3",
   "version": "3.7.4"
  }
 },
 "nbformat": 4,
 "nbformat_minor": 4
}
