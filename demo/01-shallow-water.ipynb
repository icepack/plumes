{
 "cells": [
  {
   "cell_type": "markdown",
   "metadata": {},
   "source": [
    "# The shallow water equations\n",
    "\n",
    "In this notebook, we'll move to a more interesting problem: the shallow water equations.\n",
    "The shallow water equations are one of the simplest mathematical models in geophysical fluid dynamics.\n",
    "Nonetheless, they exhibit a very large share of the complexities of more realistic physics models like the Boussinesq equations.\n",
    "They are a much more powerful test for the quality of spatial and temporal discretization schemes than the scalar advection equation.\n",
    "\n",
    "The most basic form of the shallow water system describes the evolution of the thickness $h$ and velocity $u$ of an incompressible fluid flowing over a bed with elevation $b$.\n",
    "They are:\n",
    "\n",
    "$$\\begin{align}\n",
    "\\partial_th + \\nabla\\cdot hu & = 0 \\\\\n",
    "\\partial_thu + \\nabla\\cdot\\left\\{hu\\otimes u + \\frac{1}{2}gh^2I\\right\\} & = -gh\\nabla b\n",
    "\\end{align}$$\n",
    "\n",
    "where $g$ is the acceleration due to gravity and $I$ is the 2D identity matrix.\n",
    "The divergence in the second equation should be thought of as the divergence of a tensor field.\n",
    "The symbol \"$\\otimes$\" denotes the *outer product*.\n",
    "You can think of the outer product of two vectors as the matrix $u\\cdot u^\\top$, where $\\top$ denotes the transpose.\n",
    "Alternatively, if you like indices, the components of the outer product are $(u \\otimes u)_{ij} = u_iu_j$.\n",
    "\n",
    "This form of the shallow water equations has an aggravating difficulty in that the time derivative is really of the *momentum*.\n",
    "In this form of the problem, the momentum is a non-trivial derived function of the thickness and velocity.\n",
    "It's possible to design around this when coding up numerical solvers but it is extremely annoying and as a consequence we'll instead work with the thickness and the momentum\n",
    "\n",
    "$$q = hu$$\n",
    "\n",
    "to arrive at the system\n",
    "\n",
    "$$\\begin{align}\n",
    "\\partial_th + \\nabla\\cdot q & = 0 \\\\\n",
    "\\partial_tq + \\nabla\\cdot\\left\\{h^{-1}q\\otimes q + \\frac{1}{2}gh^2I\\right\\} & = -gh\\nabla b.\n",
    "\\end{align}$$\n",
    "\n",
    "In this equivalent form of the problem, the time derivative is on just the momentum and not some function of the momentum and other variables.\n",
    "We can then easily implement common timestepping schemes."
   ]
  },
  {
   "cell_type": "markdown",
   "metadata": {},
   "source": [
    "### Problem setup\n",
    "\n",
    "First, we'll use a periodic rectangle as our spatial domain of 20m to a side -- a little less than the width of an Olympic swimming pool.\n",
    "The periodicity is a little artificial and in later demos we'll show how to add realistic boundary conditions."
   ]
  },
  {
   "cell_type": "code",
   "execution_count": null,
   "metadata": {},
   "outputs": [],
   "source": [
    "import firedrake\n",
    "nx, ny = 32, 32\n",
    "Lx, Ly = 20., 20.\n",
    "mesh = firedrake.PeriodicRectangleMesh(\n",
    "    nx, ny, Lx, Ly, diagonal='crossed'\n",
    ")"
   ]
  },
  {
   "cell_type": "markdown",
   "metadata": {},
   "source": [
    "As an initial condition, we'll take the water to be 1m deep, and to perturb this a bit we'll add a 10cm parabolic burp near one corner."
   ]
  },
  {
   "cell_type": "code",
   "execution_count": null,
   "metadata": {},
   "outputs": [],
   "source": [
    "from firedrake import inner, max_value, Constant\n",
    "x = firedrake.SpatialCoordinate(mesh)\n",
    "lx = 5.\n",
    "y = Constant((lx, lx))\n",
    "r = Constant(2.5)\n",
    "\n",
    "H = Constant(1.)\n",
    "δh = Constant(0.1)\n",
    "h_expr = H + δh * max_value(0, 1 - inner(x - y, x - y) / r**2)"
   ]
  },
  {
   "cell_type": "markdown",
   "metadata": {},
   "source": [
    "To make things yet more interesting, we'll add some variable bottom topography consisting of another parabolic burp."
   ]
  },
  {
   "cell_type": "code",
   "execution_count": null,
   "metadata": {},
   "outputs": [],
   "source": [
    "y = Constant((3 * lx, 3 * lx))\n",
    "δb = Constant(1/4)\n",
    "b = δb * max_value(0, 1 - inner(x - y, x - y) / r**2)"
   ]
  },
  {
   "cell_type": "markdown",
   "metadata": {},
   "source": [
    "This is all the input data we need."
   ]
  },
  {
   "cell_type": "markdown",
   "metadata": {},
   "source": [
    "### DG(1) discretization\n",
    "\n",
    "In the last demo, we saw that using a higher-resolution scheme than DG(0) gave a huge improvement in the accuracy of the solution.\n",
    "Here we'll do the same thing and start with a DG(1) discretization for both thickness and momentum.\n",
    "For the momentum, we'll create a vector rather than a scalar function space."
   ]
  },
  {
   "cell_type": "code",
   "execution_count": null,
   "metadata": {},
   "outputs": [],
   "source": [
    "degree = 1\n",
    "Q = firedrake.FunctionSpace(mesh, family='DG', degree=degree)\n",
    "V = firedrake.VectorFunctionSpace(mesh, family='DG', degree=degree)"
   ]
  },
  {
   "cell_type": "markdown",
   "metadata": {},
   "source": [
    "As we saw in the last demo, the solvers are expecting to work with one single monolithic state vector.\n",
    "What we want is the cartesian product $Z = Q \\times V$ of the thickness space $Q$ and the momentum space $V$, and Firedrake has some built-in notation for doing just that."
   ]
  },
  {
   "cell_type": "code",
   "execution_count": null,
   "metadata": {},
   "outputs": [],
   "source": [
    "Z = Q * V\n",
    "z_0 = firedrake.Function(Z)"
   ]
  },
  {
   "cell_type": "markdown",
   "metadata": {},
   "source": [
    "In order to initialize the state vector $z_0$, we can split out the thickness and momentum components and project the expression we wrote above."
   ]
  },
  {
   "cell_type": "code",
   "execution_count": null,
   "metadata": {},
   "outputs": [],
   "source": [
    "h_0, q_0 = z_0.split()\n",
    "h_0.project(h_expr - b);"
   ]
  },
  {
   "cell_type": "markdown",
   "metadata": {},
   "source": [
    "Now we'll do just like we did before: create a function that will return the right-hand side of the shallow water equations and then create a numerical solver for those equations."
   ]
  },
  {
   "cell_type": "code",
   "execution_count": null,
   "metadata": {},
   "outputs": [],
   "source": [
    "from plumes import models\n",
    "from plumes.coefficients import gravity\n",
    "g = firedrake.Constant(gravity)\n",
    "equation = models.shallow_water.make_equation(g, b)"
   ]
  },
  {
   "cell_type": "markdown",
   "metadata": {},
   "source": [
    "The wave speed for the shallow water equations is $\\sqrt{g\\cdot h}$, which gives us a speed to guess at a CFL-stable timestep with."
   ]
  },
  {
   "cell_type": "code",
   "execution_count": null,
   "metadata": {},
   "outputs": [],
   "source": [
    "import numpy as np\n",
    "C = np.sqrt(gravity * (float(H) + float(δh)))\n",
    "δx = mesh.cell_sizes.dat.data_ro[:].min()\n",
    "timestep = (δx / 8) / C / (2 * degree + 1)\n",
    "print(timestep)"
   ]
  },
  {
   "cell_type": "markdown",
   "metadata": {},
   "source": [
    "We can also use this to guess how long it will take for a wave to propagate all the way across the domain."
   ]
  },
  {
   "cell_type": "code",
   "execution_count": null,
   "metadata": {},
   "outputs": [],
   "source": [
    "final_time = 4 * Lx / C\n",
    "num_steps = int(final_time / timestep)\n",
    "print(f'final time: {final_time:5.3f}')\n",
    "print(f'num steps:  {num_steps}')\n",
    "dt = final_time / num_steps"
   ]
  },
  {
   "cell_type": "markdown",
   "metadata": {},
   "source": [
    "We'll want to make movies again, so we need to calculate how the output frequency."
   ]
  },
  {
   "cell_type": "code",
   "execution_count": null,
   "metadata": {},
   "outputs": [],
   "source": [
    "output_time = 1 / 30\n",
    "output_freq = max(int(output_time / dt), 1)\n",
    "print(f'output frequency: {output_freq}')"
   ]
  },
  {
   "cell_type": "markdown",
   "metadata": {},
   "source": [
    "Now we can make our solver and proceed like before."
   ]
  },
  {
   "cell_type": "code",
   "execution_count": null,
   "metadata": {},
   "outputs": [],
   "source": [
    "from plumes import numerics\n",
    "integrator = numerics.ExplicitEuler(equation, z_0, dt)"
   ]
  },
  {
   "cell_type": "markdown",
   "metadata": {},
   "source": [
    "In the timestepping loop, we'll add a bit of diagnostic information to the progress bar to make sure the simulation hasn't exploded."
   ]
  },
  {
   "cell_type": "code",
   "execution_count": null,
   "metadata": {},
   "outputs": [],
   "source": [
    "import tqdm\n",
    "\n",
    "hs = []\n",
    "qs = []\n",
    "\n",
    "progress_bar = tqdm.trange(num_steps)\n",
    "for step in progress_bar:\n",
    "    if step % output_freq == 0:\n",
    "        z = integrator.state\n",
    "        h, q = z.split()\n",
    "        hmin, hmax = h.dat.data_ro[:].min(), h.dat.data_ro[:].max()\n",
    "        progress_bar.set_description(f'{hmin:5.3f}, {hmax:5.3f}')\n",
    "        hs.append(h.copy(deepcopy=True))\n",
    "        qs.append(q.copy(deepcopy=True))\n",
    "    \n",
    "    integrator.step(dt)"
   ]
  },
  {
   "cell_type": "markdown",
   "metadata": {},
   "source": [
    "With the saved time series, we'll make a movie of the surface elevations throughout the simulation.\n",
    "We're going to make several movies, so this is worth factoring out into a separate function."
   ]
  },
  {
   "cell_type": "code",
   "execution_count": null,
   "metadata": {},
   "outputs": [],
   "source": [
    "import matplotlib.pyplot as plt\n",
    "from matplotlib.animation import FuncAnimation\n",
    "\n",
    "def setup_movie(hs, η, vmin, vmax, output_freq):\n",
    "    fig, axes = plt.subplots()\n",
    "    axes.set_aspect('equal')\n",
    "    axes.get_xaxis().set_visible(False)\n",
    "    axes.get_yaxis().set_visible(False)\n",
    "    colors = firedrake.tripcolor(\n",
    "        η, num_sample_points=1, vmin=vmin, vmax=vmax, axes=axes\n",
    "    )\n",
    "    fig.colorbar(colors)\n",
    "\n",
    "    def animate(h):\n",
    "        η.project(h + b)\n",
    "        colors.set_array(η.dat.data_ro[:])\n",
    "\n",
    "    interval = 1e3 * output_freq * dt\n",
    "    animation = FuncAnimation(fig, animate, frames=hs, interval=interval)\n",
    "    return animation"
   ]
  },
  {
   "cell_type": "code",
   "execution_count": null,
   "metadata": {},
   "outputs": [],
   "source": [
    "%%capture\n",
    "Q0 = firedrake.FunctionSpace(mesh, family='DG', degree=0)\n",
    "η = firedrake.project(hs[0] + b, Q0)\n",
    "animation = setup_movie(hs, η, 0.85, 1.05, output_freq)"
   ]
  },
  {
   "cell_type": "code",
   "execution_count": null,
   "metadata": {},
   "outputs": [],
   "source": [
    "from IPython.display import HTML\n",
    "HTML(animation.to_html5_video())"
   ]
  },
  {
   "cell_type": "markdown",
   "metadata": {},
   "source": [
    "Notice how, at the end of the movie, there are some high-frequency oscillations?\n",
    "Those should make you suspicious that something isn't entirely right with the numerics.\n",
    "We can quantify this by looking at the degree to which the numerical solution conserves energy.\n",
    "The energy functional for the shallow water equations is\n",
    "\n",
    "$$E = \\frac{1}{2}\\int_\\Omega\\left\\{h^{-1}|q|^2 + g\\cdot(h + b)\\right\\}dx.$$\n",
    "\n",
    "Let's plot the value of the energy functional over the whole time series:"
   ]
  },
  {
   "cell_type": "code",
   "execution_count": null,
   "metadata": {},
   "outputs": [],
   "source": [
    "from firedrake import assemble, dx\n",
    "energies = np.array([\n",
    "    0.5 * assemble((inner(q, q) / h + g * (h + b)) * dx)\n",
    "    for h, q in zip(hs, qs)\n",
    "])"
   ]
  },
  {
   "cell_type": "code",
   "execution_count": null,
   "metadata": {},
   "outputs": [],
   "source": [
    "fig, axes = plt.subplots()\n",
    "times = dt * output_freq * np.array(list(range(num_steps // output_freq)))\n",
    "axes.plot(times, energies)\n",
    "axes.set_xlabel('time (s)')\n",
    "axes.set_ylabel('energy');"
   ]
  },
  {
   "cell_type": "markdown",
   "metadata": {},
   "source": [
    "The simulated state is clearly gaining energy over time and will, eventually, become unstable.\n",
    "This is an expected and well-known property of the explicit Euler scheme -- it tends to \"inject\" energy into otherwise energy-conserving systems.\n",
    "We could tamp down this effect over the integration period by reducing the timestep.\n",
    "But this failure of energy conservation can only be eliminated by using better integration schemes."
   ]
  },
  {
   "cell_type": "markdown",
   "metadata": {},
   "source": [
    "### SSPRK3 scheme\n",
    "\n",
    "Rather than use an even shorter timestep, we can partly reduce the energy error by going to a higher-order time discretization, the 3rd-order *strong stability-preserving Runge-Kutta method* or SSPRK3 for short.\n",
    "This scheme is very common in computational fluid dynamics because it gives 3rd-order accuracy in time very economically and with numerically simple coefficients.\n",
    "Since the exact system conserves energy, a time discretization that better tracks the true solution should also track the energy better."
   ]
  },
  {
   "cell_type": "code",
   "execution_count": null,
   "metadata": {},
   "outputs": [],
   "source": [
    "integrator = numerics.SSPRK3(equation, z_0, dt)\n",
    "\n",
    "hs = []\n",
    "qs = []\n",
    "\n",
    "progress_bar = tqdm.trange(num_steps)\n",
    "for step in progress_bar:\n",
    "    if step % output_freq == 0:\n",
    "        z = integrator.state\n",
    "        h, q = z.split()\n",
    "        hmin, hmax = h.dat.data_ro[:].min(), h.dat.data_ro[:].max()\n",
    "        progress_bar.set_description(f'{hmin:5.3f}, {hmax:5.3f}')\n",
    "        hs.append(h.copy(deepcopy=True))\n",
    "        qs.append(q.copy(deepcopy=True))\n",
    "    \n",
    "    integrator.step(dt)"
   ]
  },
  {
   "cell_type": "markdown",
   "metadata": {},
   "source": [
    "Now we can calculate the energy drift again:"
   ]
  },
  {
   "cell_type": "code",
   "execution_count": null,
   "metadata": {},
   "outputs": [],
   "source": [
    "energies = np.array([\n",
    "    0.5 * assemble((inner(q, q) / h + g * (h + b)) * dx)\n",
    "    for h, q in zip(hs, qs)\n",
    "])"
   ]
  },
  {
   "cell_type": "code",
   "execution_count": null,
   "metadata": {},
   "outputs": [],
   "source": [
    "fig, axes = plt.subplots()\n",
    "times = dt * output_freq * np.array(list(range(num_steps // output_freq)))\n",
    "axes.plot(times, energies)\n",
    "axes.set_xlabel('time (s)')\n",
    "axes.set_ylabel('energy');"
   ]
  },
  {
   "cell_type": "markdown",
   "metadata": {},
   "source": [
    "Using SSPRK3 has reduced the energy drift by a factor of 10.\n",
    "But we should emphasize that it does *not* eliminate the problem, it merely reduces it.\n",
    "To get true energy conservation, we would need to use a symplectic scheme like the implicit midpoint rule.\n",
    "Nonetheless, it's a big improvement and much more economical than using explicit Euler and cutting the timestep.\n",
    "\n",
    "Now let's make another movie to see if there's any other weird stuff sticking out."
   ]
  },
  {
   "cell_type": "code",
   "execution_count": null,
   "metadata": {},
   "outputs": [],
   "source": [
    "%%capture\n",
    "animation = setup_movie(hs, η, 0.85, 1.05, output_freq)"
   ]
  },
  {
   "cell_type": "code",
   "execution_count": null,
   "metadata": {},
   "outputs": [],
   "source": [
    "HTML(animation.to_html5_video())"
   ]
  },
  {
   "cell_type": "markdown",
   "metadata": {},
   "source": [
    "The oscillations that we saw before are largely gone, but something weird is happening in the vicinity of the bed bump.\n",
    "Let's see if we can improve on that by changing the spatial discretization."
   ]
  },
  {
   "cell_type": "markdown",
   "metadata": {},
   "source": [
    "### BDFM discretization\n",
    "\n",
    "SSPRK3 helped substantially with the energy drift, but there are still some artifacts around where there are sources of momentum from bottom topography.\n",
    "The way that this effect usually manifests itself is in a solution that starts with a flat surface, which should be steady, having non-trivial evolution.\n",
    "We can improve things by making a better choice of finite element space.\n",
    "Here, we'll use the degree-2 Brezzi-Douglas-Fortin-Marini element, or BDFM(2) for short.\n",
    "The pair of BDFM(2) for momentum and DG(1) for thickness on triangular elements reproduces many of the favorable properties of staggered finite difference grids."
   ]
  },
  {
   "cell_type": "code",
   "execution_count": null,
   "metadata": {},
   "outputs": [],
   "source": [
    "degree = 2\n",
    "V = firedrake.FunctionSpace(mesh, family='BDFM', degree=degree)\n",
    "\n",
    "Z = Q * V\n",
    "z_0 = firedrake.Function(Z)\n",
    "\n",
    "h_0, q_0 = z_0.split()\n",
    "h_0.project(h_expr - b);"
   ]
  },
  {
   "cell_type": "code",
   "execution_count": null,
   "metadata": {},
   "outputs": [],
   "source": [
    "timestep = (δx / 8) / C / (2 * degree + 1)\n",
    "num_steps = int(final_time / timestep)\n",
    "print(f'final time: {final_time:5.3f}')\n",
    "print(f'num steps:  {num_steps}')\n",
    "dt = final_time / num_steps\n",
    "\n",
    "output_time = 1 / 30\n",
    "output_freq = max(int(output_time / dt), 1)\n",
    "print(f'output frequency: {output_freq}')"
   ]
  },
  {
   "cell_type": "code",
   "execution_count": null,
   "metadata": {},
   "outputs": [],
   "source": [
    "integrator = numerics.SSPRK3(equation, z_0, dt)"
   ]
  },
  {
   "cell_type": "code",
   "execution_count": null,
   "metadata": {},
   "outputs": [],
   "source": [
    "hs = []\n",
    "qs = []\n",
    "\n",
    "progress_bar = tqdm.trange(num_steps)\n",
    "for step in progress_bar:\n",
    "    if step % output_freq == 0:\n",
    "        z = integrator.state\n",
    "        h, q = z.split()\n",
    "        hmin, hmax = h.dat.data_ro[:].min(), h.dat.data_ro[:].max()\n",
    "        progress_bar.set_description(f'{hmin:5.3f}, {hmax:5.3f}')\n",
    "        hs.append(h.copy(deepcopy=True))\n",
    "        qs.append(q.copy(deepcopy=True))\n",
    "    \n",
    "    integrator.step(dt)"
   ]
  },
  {
   "cell_type": "markdown",
   "metadata": {},
   "source": [
    "Now let's look at the energy drift and make a movie again."
   ]
  },
  {
   "cell_type": "code",
   "execution_count": null,
   "metadata": {},
   "outputs": [],
   "source": [
    "Es = np.array([\n",
    "    0.5 * assemble((inner(q, q) / h + g * (h + b)) * dx)\n",
    "    for h, q in zip(hs, qs)\n",
    "])\n",
    "Es.min(), Es.max()"
   ]
  },
  {
   "cell_type": "code",
   "execution_count": null,
   "metadata": {},
   "outputs": [],
   "source": [
    "fig, axes = plt.subplots()\n",
    "axes.plot(Es)"
   ]
  },
  {
   "cell_type": "code",
   "execution_count": null,
   "metadata": {},
   "outputs": [],
   "source": [
    "η = firedrake.project(hs[0] + b, Q0)"
   ]
  },
  {
   "cell_type": "code",
   "execution_count": null,
   "metadata": {},
   "outputs": [],
   "source": [
    "%%capture\n",
    "animation = setup_movie(hs, η, 0.85, 1.05, output_freq)"
   ]
  },
  {
   "cell_type": "code",
   "execution_count": null,
   "metadata": {},
   "outputs": [],
   "source": [
    "HTML(animation.to_html5_video())"
   ]
  },
  {
   "cell_type": "markdown",
   "metadata": {},
   "source": [
    "The energy drift is further reduced by 1/3, but more importantly, the visual artifacts in the solution near the topographic bump have been substantially reduced.\n",
    "\n",
    "The BDFM(2)/DG(1) element pair with SSPRK3 timestepping is appreciably more expensive than DG(1)/DG(1) with explicit Euler on the same grid.\n",
    "For realistic problems, we are free to choose whichever grid we want and are instead constrained by computational resources."
   ]
  }
 ],
 "metadata": {
  "kernelspec": {
   "display_name": "firedrake",
   "language": "python",
   "name": "firedrake"
  },
  "language_info": {
   "codemirror_mode": {
    "name": "ipython",
    "version": 3
   },
   "file_extension": ".py",
   "mimetype": "text/x-python",
   "name": "python",
   "nbconvert_exporter": "python",
   "pygments_lexer": "ipython3",
   "version": "3.7.4"
  }
 },
 "nbformat": 4,
 "nbformat_minor": 4
}
